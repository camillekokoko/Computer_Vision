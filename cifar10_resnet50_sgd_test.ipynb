{
  "cells": [
    {
      "cell_type": "markdown",
      "metadata": {
        "id": "view-in-github",
        "colab_type": "text"
      },
      "source": [
        "<a href=\"https://colab.research.google.com/github/CamilleKoSzePui/DL_as2/blob/main/cifar10_resnet50_sgd_test.ipynb\" target=\"_parent\"><img src=\"https://colab.research.google.com/assets/colab-badge.svg\" alt=\"Open In Colab\"/></a>"
      ]
    },
    {
      "cell_type": "markdown",
      "source": [
        "# RUN FIRST"
      ],
      "metadata": {
        "id": "e7Ijtx5btTui"
      }
    },
    {
      "cell_type": "code",
      "execution_count": null,
      "metadata": {
        "id": "YsXCfZg3KA5B"
      },
      "outputs": [],
      "source": [
        "# Importing libraries. \n",
        "\n",
        "import os\n",
        "import random\n",
        "import numpy as np\n",
        "import torch\n",
        "import torch.nn as nn\n",
        "import torch.nn.functional as F\n",
        "from tqdm.notebook import tqdm\n",
        "import time \n",
        "\n",
        "# To avoid non-essential warnings \n",
        "import warnings\n",
        "warnings.filterwarnings('ignore')\n",
        "\n",
        "from torchvision import datasets, transforms, models \n",
        "from torchvision.datasets import ImageFolder\n",
        "from torchvision.transforms import ToTensor\n",
        "from torchvision.utils import make_grid\n",
        "from torch.utils.data import random_split\n",
        "from torch.utils.data.dataloader import DataLoader\n",
        "\n",
        "from torchvision.models import resnet18, ResNet18_Weights, resnet50, ResNet50_Weights\n",
        "\n",
        "import matplotlib.pyplot as plt\n",
        "%matplotlib inline"
      ]
    },
    {
      "cell_type": "code",
      "execution_count": null,
      "metadata": {
        "id": "ZhgDWEtmOtgl"
      },
      "outputs": [],
      "source": [
        "# Preview one of the images..\n",
        "def show_image(img, label):\n",
        "    plt.figure(figsize=(1,1))\n",
        "    print('Label: ', dataset.classes[label], \"(\"+str(label)+\")\")\n",
        "    plt.imshow(img.permute(1,2,0))"
      ]
    },
    {
      "cell_type": "code",
      "execution_count": null,
      "metadata": {
        "id": "H-2gGT4iRthd"
      },
      "outputs": [],
      "source": [
        " # To check wether Google Colab GPU has been assigned/not. \n",
        "\n",
        "def get_default_device():\n",
        "    \"\"\"Pick GPU if available, else CPU\"\"\"\n",
        "    if torch.cuda.is_available():\n",
        "        return torch.device('cuda')\n",
        "    else:\n",
        "        return None\n",
        "    \n",
        "def to_device(data, device):\n",
        "    \"\"\"Move tensor(s) to chosen device\"\"\"\n",
        "    if isinstance(data, (list,tuple)):\n",
        "        return [to_device(x, device) for x in data]\n",
        "    return data.to(device, non_blocking=True)\n",
        "\n",
        "class DeviceDataLoader():\n",
        "    \"\"\"Wrap a dataloader to move data to a device\"\"\"\n",
        "    def __init__(self, dl, device):\n",
        "        self.dl = dl\n",
        "        self.device = device\n",
        "        \n",
        "    def __iter__(self):\n",
        "        \"\"\"Yield a batch of data after moving it to device\"\"\"\n",
        "        for b in self.dl: \n",
        "            yield to_device(b, self.device)\n",
        "\n",
        "    def __len__(self):\n",
        "        \"\"\"Number of batches\"\"\"\n",
        "        return len(self.dl)"
      ]
    },
    {
      "cell_type": "code",
      "execution_count": null,
      "metadata": {
        "id": "UnJ0fHw3Ry6D"
      },
      "outputs": [],
      "source": [
        "device = get_default_device()\n",
        "device"
      ]
    },
    {
      "cell_type": "code",
      "execution_count": null,
      "metadata": {
        "id": "Yp66PsS8T_tk"
      },
      "outputs": [],
      "source": [
        "def acc_and_loss(model,loader,opt):\n",
        "\n",
        "        model.eval()\n",
        "        losses = []\n",
        "        acc_lst = []\n",
        "        mean_loss,acc = 0,0\n",
        "        lbl_sz =0\n",
        "        # criterion = cpt\n",
        "        optimizer = opt\n",
        "        #NO gradient required as not training\n",
        "        with torch.no_grad():\n",
        "            for i, data in enumerate(loader, 0):\n",
        "                # get the inputs\n",
        "                inputs, labels = data[0].to(get_default_device()), data[1].to(get_default_device())\n",
        "                outputs = model(inputs)\n",
        "                #Accuracy\n",
        "                lbl_sz+=labels.size(0)\n",
        "                _, predicted = torch.max(outputs.data, 1)\n",
        "                itm = (predicted == labels).sum().item()\n",
        "                acc_lst.append(itm)\n",
        "                #losses\n",
        "                loss = F.cross_entropy(outputs, labels)\n",
        "                losses.append(loss.item())\n",
        "        mean_loss = np.mean(losses)\n",
        "        acc=(100 * np.sum(acc_lst) / lbl_sz)\n",
        "        return  acc,mean_loss\n",
        "\n",
        "def fit_A(epochs, lr, model, train_loader, val_loader, opt_func=torch.optim.SGD): #this works\n",
        "  n_total_steps = len(train_loader)\n",
        "  train_stats = []\n",
        "  for epoch in range(num_epochs):\n",
        "      for i, (images, labels) in enumerate(train_loader):\n",
        "          # origin shape: [4, 3, 32, 32] = 4, 3, 1024\n",
        "          # input_layer: 3 input channels, 6 output channels, 5 kernel size\n",
        "          images = images.to(device)\n",
        "          labels = labels.to(device)\n",
        "\n",
        "          # Forward pass\n",
        "          outputs = model(images)\n",
        "          loss = F.cross_entropy(outputs, labels)\n",
        "\n",
        "          # Backward and optimize\n",
        "          opt_func.zero_grad()\n",
        "          loss.backward()\n",
        "          opt_func.step()\n",
        "\n",
        "          if (i+1) % 2000 == 0:\n",
        "              print (f'Epoch [{epoch+1}/{num_epochs}], Step [{i+1}/{n_total_steps}], Loss: {loss.item():.4f}')\n",
        "      train_acc,train_loss = acc_and_loss(model,train_loader,opt_func)\n",
        "      val_acc,val_loss = acc_and_loss(model,val_loader,opt_func)\n",
        "\n",
        "      train_stat = {\"epoch\" : epoch+1,\"train_loss\" :train_loss,\"train_acc\" :train_acc,\"val_acc\": val_acc,\"val_loss\":val_loss}\n",
        "      print(train_stat)\n",
        "      train_stats.append(train_stat)\n",
        "      model.train_stats = train_stats\n",
        "  print('Finished Training')\n",
        "\n",
        "def show_graph(epochs,model):\n",
        "   train_accuracies = [x['train_acc'] for x in model.train_stats]\n",
        "   val_accuracies = [x['val_acc'] for x in model.train_stats]  \n",
        "   train_losses = [x['train_loss'] for x in model.train_stats]\n",
        "   val_losses = [x['val_loss'] for x in model.train_stats] \n",
        "   print(train_accuracies)\n",
        "   \n",
        "   plt.figure(figsize=(5, 4))\n",
        "   plt.title(\"Plotting Training/Validation Loss vs Epochs\")\n",
        "   plt.plot(np.arange(epochs), val_losses, label = \"Validation Loss\")\n",
        "   plt.plot(np.arange(epochs), train_losses, label = \"Training Loss\")\n",
        "   plt.legend()\n",
        "   plt.show()\n",
        "   \n",
        "   plt.figure(figsize=(5, 4))\n",
        "   plt.title(\"Plotting Training/Validation Accuracy  vs Epochs\")\n",
        "   plt.plot(np.arange(epochs), val_accuracies, label = \"Validation Accuracy\")\n",
        "   plt.plot(np.arange(epochs), train_accuracies, label = \"Training Accuracy\")\n",
        "   plt.legend()\n",
        "   plt.show()\n",
        "\n",
        "def acc_by_class(batch_size,model, val_loader):\n",
        "  with torch.no_grad():\n",
        "      n_correct = 0\n",
        "      n_samples = 0\n",
        "      n_class_correct = [0 for i in range(10)]\n",
        "      n_class_samples = [0 for i in range(10)]\n",
        "      for images, labels in val_loader:\n",
        "          images = images.to(device)\n",
        "          labels = labels.to(device)\n",
        "          outputs = model(images)\n",
        "          # max returns (value ,index)\n",
        "          _, predicted = torch.max(outputs, 1)\n",
        "          n_samples += labels.size(0)\n",
        "          n_correct += (predicted == labels).sum().item()\n",
        "          \n",
        "          for i in range(batch_size):\n",
        "              label = labels[i]\n",
        "              pred = predicted[i]\n",
        "              if (label == pred):\n",
        "                  n_class_correct[label] += 1\n",
        "              n_class_samples[label] += 1\n",
        "\n",
        "      acc = 100.0 * n_correct / n_samples\n",
        "      print(f'Accuracy of the network: {acc} %')\n",
        "\n",
        "      for i in range(10):\n",
        "          acc = 100.0 * n_class_correct[i] / n_class_samples[i]\n",
        "          print(f'Accuracy of {classes[i]}: {acc} %')"
      ]
    },
    {
      "cell_type": "markdown",
      "source": [
        "# Experiment 0"
      ],
      "metadata": {
        "id": "NRS6O1wPtR4k"
      }
    },
    {
      "cell_type": "code",
      "execution_count": null,
      "metadata": {
        "id": "ds1_BIy6Sse5",
        "colab": {
          "base_uri": "https://localhost:8080/"
        },
        "outputId": "3e57b67d-e68f-4f0c-8b4d-996cfefa6905"
      },
      "outputs": [
        {
          "output_type": "stream",
          "name": "stdout",
          "text": [
            "ImageClassification(\n",
            "    crop_size=[224]\n",
            "    resize_size=[232]\n",
            "    mean=[0.485, 0.456, 0.406]\n",
            "    std=[0.229, 0.224, 0.225]\n",
            "    interpolation=InterpolationMode.BILINEAR\n",
            ")\n",
            "ResNet(\n",
            "  (conv1): Conv2d(3, 64, kernel_size=(7, 7), stride=(2, 2), padding=(3, 3), bias=False)\n",
            "  (bn1): BatchNorm2d(64, eps=1e-05, momentum=0.1, affine=True, track_running_stats=True)\n",
            "  (relu): ReLU(inplace=True)\n",
            "  (maxpool): MaxPool2d(kernel_size=3, stride=2, padding=1, dilation=1, ceil_mode=False)\n",
            "  (layer1): Sequential(\n",
            "    (0): Bottleneck(\n",
            "      (conv1): Conv2d(64, 64, kernel_size=(1, 1), stride=(1, 1), bias=False)\n",
            "      (bn1): BatchNorm2d(64, eps=1e-05, momentum=0.1, affine=True, track_running_stats=True)\n",
            "      (conv2): Conv2d(64, 64, kernel_size=(3, 3), stride=(1, 1), padding=(1, 1), bias=False)\n",
            "      (bn2): BatchNorm2d(64, eps=1e-05, momentum=0.1, affine=True, track_running_stats=True)\n",
            "      (conv3): Conv2d(64, 256, kernel_size=(1, 1), stride=(1, 1), bias=False)\n",
            "      (bn3): BatchNorm2d(256, eps=1e-05, momentum=0.1, affine=True, track_running_stats=True)\n",
            "      (relu): ReLU(inplace=True)\n",
            "      (downsample): Sequential(\n",
            "        (0): Conv2d(64, 256, kernel_size=(1, 1), stride=(1, 1), bias=False)\n",
            "        (1): BatchNorm2d(256, eps=1e-05, momentum=0.1, affine=True, track_running_stats=True)\n",
            "      )\n",
            "    )\n",
            "    (1): Bottleneck(\n",
            "      (conv1): Conv2d(256, 64, kernel_size=(1, 1), stride=(1, 1), bias=False)\n",
            "      (bn1): BatchNorm2d(64, eps=1e-05, momentum=0.1, affine=True, track_running_stats=True)\n",
            "      (conv2): Conv2d(64, 64, kernel_size=(3, 3), stride=(1, 1), padding=(1, 1), bias=False)\n",
            "      (bn2): BatchNorm2d(64, eps=1e-05, momentum=0.1, affine=True, track_running_stats=True)\n",
            "      (conv3): Conv2d(64, 256, kernel_size=(1, 1), stride=(1, 1), bias=False)\n",
            "      (bn3): BatchNorm2d(256, eps=1e-05, momentum=0.1, affine=True, track_running_stats=True)\n",
            "      (relu): ReLU(inplace=True)\n",
            "    )\n",
            "    (2): Bottleneck(\n",
            "      (conv1): Conv2d(256, 64, kernel_size=(1, 1), stride=(1, 1), bias=False)\n",
            "      (bn1): BatchNorm2d(64, eps=1e-05, momentum=0.1, affine=True, track_running_stats=True)\n",
            "      (conv2): Conv2d(64, 64, kernel_size=(3, 3), stride=(1, 1), padding=(1, 1), bias=False)\n",
            "      (bn2): BatchNorm2d(64, eps=1e-05, momentum=0.1, affine=True, track_running_stats=True)\n",
            "      (conv3): Conv2d(64, 256, kernel_size=(1, 1), stride=(1, 1), bias=False)\n",
            "      (bn3): BatchNorm2d(256, eps=1e-05, momentum=0.1, affine=True, track_running_stats=True)\n",
            "      (relu): ReLU(inplace=True)\n",
            "    )\n",
            "  )\n",
            "  (layer2): Sequential(\n",
            "    (0): Bottleneck(\n",
            "      (conv1): Conv2d(256, 128, kernel_size=(1, 1), stride=(1, 1), bias=False)\n",
            "      (bn1): BatchNorm2d(128, eps=1e-05, momentum=0.1, affine=True, track_running_stats=True)\n",
            "      (conv2): Conv2d(128, 128, kernel_size=(3, 3), stride=(2, 2), padding=(1, 1), bias=False)\n",
            "      (bn2): BatchNorm2d(128, eps=1e-05, momentum=0.1, affine=True, track_running_stats=True)\n",
            "      (conv3): Conv2d(128, 512, kernel_size=(1, 1), stride=(1, 1), bias=False)\n",
            "      (bn3): BatchNorm2d(512, eps=1e-05, momentum=0.1, affine=True, track_running_stats=True)\n",
            "      (relu): ReLU(inplace=True)\n",
            "      (downsample): Sequential(\n",
            "        (0): Conv2d(256, 512, kernel_size=(1, 1), stride=(2, 2), bias=False)\n",
            "        (1): BatchNorm2d(512, eps=1e-05, momentum=0.1, affine=True, track_running_stats=True)\n",
            "      )\n",
            "    )\n",
            "    (1): Bottleneck(\n",
            "      (conv1): Conv2d(512, 128, kernel_size=(1, 1), stride=(1, 1), bias=False)\n",
            "      (bn1): BatchNorm2d(128, eps=1e-05, momentum=0.1, affine=True, track_running_stats=True)\n",
            "      (conv2): Conv2d(128, 128, kernel_size=(3, 3), stride=(1, 1), padding=(1, 1), bias=False)\n",
            "      (bn2): BatchNorm2d(128, eps=1e-05, momentum=0.1, affine=True, track_running_stats=True)\n",
            "      (conv3): Conv2d(128, 512, kernel_size=(1, 1), stride=(1, 1), bias=False)\n",
            "      (bn3): BatchNorm2d(512, eps=1e-05, momentum=0.1, affine=True, track_running_stats=True)\n",
            "      (relu): ReLU(inplace=True)\n",
            "    )\n",
            "    (2): Bottleneck(\n",
            "      (conv1): Conv2d(512, 128, kernel_size=(1, 1), stride=(1, 1), bias=False)\n",
            "      (bn1): BatchNorm2d(128, eps=1e-05, momentum=0.1, affine=True, track_running_stats=True)\n",
            "      (conv2): Conv2d(128, 128, kernel_size=(3, 3), stride=(1, 1), padding=(1, 1), bias=False)\n",
            "      (bn2): BatchNorm2d(128, eps=1e-05, momentum=0.1, affine=True, track_running_stats=True)\n",
            "      (conv3): Conv2d(128, 512, kernel_size=(1, 1), stride=(1, 1), bias=False)\n",
            "      (bn3): BatchNorm2d(512, eps=1e-05, momentum=0.1, affine=True, track_running_stats=True)\n",
            "      (relu): ReLU(inplace=True)\n",
            "    )\n",
            "    (3): Bottleneck(\n",
            "      (conv1): Conv2d(512, 128, kernel_size=(1, 1), stride=(1, 1), bias=False)\n",
            "      (bn1): BatchNorm2d(128, eps=1e-05, momentum=0.1, affine=True, track_running_stats=True)\n",
            "      (conv2): Conv2d(128, 128, kernel_size=(3, 3), stride=(1, 1), padding=(1, 1), bias=False)\n",
            "      (bn2): BatchNorm2d(128, eps=1e-05, momentum=0.1, affine=True, track_running_stats=True)\n",
            "      (conv3): Conv2d(128, 512, kernel_size=(1, 1), stride=(1, 1), bias=False)\n",
            "      (bn3): BatchNorm2d(512, eps=1e-05, momentum=0.1, affine=True, track_running_stats=True)\n",
            "      (relu): ReLU(inplace=True)\n",
            "    )\n",
            "  )\n",
            "  (layer3): Sequential(\n",
            "    (0): Bottleneck(\n",
            "      (conv1): Conv2d(512, 256, kernel_size=(1, 1), stride=(1, 1), bias=False)\n",
            "      (bn1): BatchNorm2d(256, eps=1e-05, momentum=0.1, affine=True, track_running_stats=True)\n",
            "      (conv2): Conv2d(256, 256, kernel_size=(3, 3), stride=(2, 2), padding=(1, 1), bias=False)\n",
            "      (bn2): BatchNorm2d(256, eps=1e-05, momentum=0.1, affine=True, track_running_stats=True)\n",
            "      (conv3): Conv2d(256, 1024, kernel_size=(1, 1), stride=(1, 1), bias=False)\n",
            "      (bn3): BatchNorm2d(1024, eps=1e-05, momentum=0.1, affine=True, track_running_stats=True)\n",
            "      (relu): ReLU(inplace=True)\n",
            "      (downsample): Sequential(\n",
            "        (0): Conv2d(512, 1024, kernel_size=(1, 1), stride=(2, 2), bias=False)\n",
            "        (1): BatchNorm2d(1024, eps=1e-05, momentum=0.1, affine=True, track_running_stats=True)\n",
            "      )\n",
            "    )\n",
            "    (1): Bottleneck(\n",
            "      (conv1): Conv2d(1024, 256, kernel_size=(1, 1), stride=(1, 1), bias=False)\n",
            "      (bn1): BatchNorm2d(256, eps=1e-05, momentum=0.1, affine=True, track_running_stats=True)\n",
            "      (conv2): Conv2d(256, 256, kernel_size=(3, 3), stride=(1, 1), padding=(1, 1), bias=False)\n",
            "      (bn2): BatchNorm2d(256, eps=1e-05, momentum=0.1, affine=True, track_running_stats=True)\n",
            "      (conv3): Conv2d(256, 1024, kernel_size=(1, 1), stride=(1, 1), bias=False)\n",
            "      (bn3): BatchNorm2d(1024, eps=1e-05, momentum=0.1, affine=True, track_running_stats=True)\n",
            "      (relu): ReLU(inplace=True)\n",
            "    )\n",
            "    (2): Bottleneck(\n",
            "      (conv1): Conv2d(1024, 256, kernel_size=(1, 1), stride=(1, 1), bias=False)\n",
            "      (bn1): BatchNorm2d(256, eps=1e-05, momentum=0.1, affine=True, track_running_stats=True)\n",
            "      (conv2): Conv2d(256, 256, kernel_size=(3, 3), stride=(1, 1), padding=(1, 1), bias=False)\n",
            "      (bn2): BatchNorm2d(256, eps=1e-05, momentum=0.1, affine=True, track_running_stats=True)\n",
            "      (conv3): Conv2d(256, 1024, kernel_size=(1, 1), stride=(1, 1), bias=False)\n",
            "      (bn3): BatchNorm2d(1024, eps=1e-05, momentum=0.1, affine=True, track_running_stats=True)\n",
            "      (relu): ReLU(inplace=True)\n",
            "    )\n",
            "    (3): Bottleneck(\n",
            "      (conv1): Conv2d(1024, 256, kernel_size=(1, 1), stride=(1, 1), bias=False)\n",
            "      (bn1): BatchNorm2d(256, eps=1e-05, momentum=0.1, affine=True, track_running_stats=True)\n",
            "      (conv2): Conv2d(256, 256, kernel_size=(3, 3), stride=(1, 1), padding=(1, 1), bias=False)\n",
            "      (bn2): BatchNorm2d(256, eps=1e-05, momentum=0.1, affine=True, track_running_stats=True)\n",
            "      (conv3): Conv2d(256, 1024, kernel_size=(1, 1), stride=(1, 1), bias=False)\n",
            "      (bn3): BatchNorm2d(1024, eps=1e-05, momentum=0.1, affine=True, track_running_stats=True)\n",
            "      (relu): ReLU(inplace=True)\n",
            "    )\n",
            "    (4): Bottleneck(\n",
            "      (conv1): Conv2d(1024, 256, kernel_size=(1, 1), stride=(1, 1), bias=False)\n",
            "      (bn1): BatchNorm2d(256, eps=1e-05, momentum=0.1, affine=True, track_running_stats=True)\n",
            "      (conv2): Conv2d(256, 256, kernel_size=(3, 3), stride=(1, 1), padding=(1, 1), bias=False)\n",
            "      (bn2): BatchNorm2d(256, eps=1e-05, momentum=0.1, affine=True, track_running_stats=True)\n",
            "      (conv3): Conv2d(256, 1024, kernel_size=(1, 1), stride=(1, 1), bias=False)\n",
            "      (bn3): BatchNorm2d(1024, eps=1e-05, momentum=0.1, affine=True, track_running_stats=True)\n",
            "      (relu): ReLU(inplace=True)\n",
            "    )\n",
            "    (5): Bottleneck(\n",
            "      (conv1): Conv2d(1024, 256, kernel_size=(1, 1), stride=(1, 1), bias=False)\n",
            "      (bn1): BatchNorm2d(256, eps=1e-05, momentum=0.1, affine=True, track_running_stats=True)\n",
            "      (conv2): Conv2d(256, 256, kernel_size=(3, 3), stride=(1, 1), padding=(1, 1), bias=False)\n",
            "      (bn2): BatchNorm2d(256, eps=1e-05, momentum=0.1, affine=True, track_running_stats=True)\n",
            "      (conv3): Conv2d(256, 1024, kernel_size=(1, 1), stride=(1, 1), bias=False)\n",
            "      (bn3): BatchNorm2d(1024, eps=1e-05, momentum=0.1, affine=True, track_running_stats=True)\n",
            "      (relu): ReLU(inplace=True)\n",
            "    )\n",
            "  )\n",
            "  (layer4): Sequential(\n",
            "    (0): Bottleneck(\n",
            "      (conv1): Conv2d(1024, 512, kernel_size=(1, 1), stride=(1, 1), bias=False)\n",
            "      (bn1): BatchNorm2d(512, eps=1e-05, momentum=0.1, affine=True, track_running_stats=True)\n",
            "      (conv2): Conv2d(512, 512, kernel_size=(3, 3), stride=(2, 2), padding=(1, 1), bias=False)\n",
            "      (bn2): BatchNorm2d(512, eps=1e-05, momentum=0.1, affine=True, track_running_stats=True)\n",
            "      (conv3): Conv2d(512, 2048, kernel_size=(1, 1), stride=(1, 1), bias=False)\n",
            "      (bn3): BatchNorm2d(2048, eps=1e-05, momentum=0.1, affine=True, track_running_stats=True)\n",
            "      (relu): ReLU(inplace=True)\n",
            "      (downsample): Sequential(\n",
            "        (0): Conv2d(1024, 2048, kernel_size=(1, 1), stride=(2, 2), bias=False)\n",
            "        (1): BatchNorm2d(2048, eps=1e-05, momentum=0.1, affine=True, track_running_stats=True)\n",
            "      )\n",
            "    )\n",
            "    (1): Bottleneck(\n",
            "      (conv1): Conv2d(2048, 512, kernel_size=(1, 1), stride=(1, 1), bias=False)\n",
            "      (bn1): BatchNorm2d(512, eps=1e-05, momentum=0.1, affine=True, track_running_stats=True)\n",
            "      (conv2): Conv2d(512, 512, kernel_size=(3, 3), stride=(1, 1), padding=(1, 1), bias=False)\n",
            "      (bn2): BatchNorm2d(512, eps=1e-05, momentum=0.1, affine=True, track_running_stats=True)\n",
            "      (conv3): Conv2d(512, 2048, kernel_size=(1, 1), stride=(1, 1), bias=False)\n",
            "      (bn3): BatchNorm2d(2048, eps=1e-05, momentum=0.1, affine=True, track_running_stats=True)\n",
            "      (relu): ReLU(inplace=True)\n",
            "    )\n",
            "    (2): Bottleneck(\n",
            "      (conv1): Conv2d(2048, 512, kernel_size=(1, 1), stride=(1, 1), bias=False)\n",
            "      (bn1): BatchNorm2d(512, eps=1e-05, momentum=0.1, affine=True, track_running_stats=True)\n",
            "      (conv2): Conv2d(512, 512, kernel_size=(3, 3), stride=(1, 1), padding=(1, 1), bias=False)\n",
            "      (bn2): BatchNorm2d(512, eps=1e-05, momentum=0.1, affine=True, track_running_stats=True)\n",
            "      (conv3): Conv2d(512, 2048, kernel_size=(1, 1), stride=(1, 1), bias=False)\n",
            "      (bn3): BatchNorm2d(2048, eps=1e-05, momentum=0.1, affine=True, track_running_stats=True)\n",
            "      (relu): ReLU(inplace=True)\n",
            "    )\n",
            "  )\n",
            "  (avgpool): AdaptiveAvgPool2d(output_size=(1, 1))\n",
            "  (fc): Linear(in_features=2048, out_features=10, bias=True)\n",
            ")\n"
          ]
        }
      ],
      "source": [
        "# Model print\n",
        "\n",
        "resnet_weights = ResNet50_Weights.DEFAULT\n",
        "resnet_transforms = resnet_weights.transforms()\n",
        "print(resnet_transforms)\n",
        "model = resnet50(weights=resnet_transforms, progress=True)\n",
        "model.fc = nn.Linear(2048, 10) \n",
        "model.to(device)\n",
        "print(model)"
      ]
    },
    {
      "cell_type": "code",
      "source": [
        "# Checking the dataset training size.\n",
        "dataset = datasets.CIFAR10(root='./data', train=True,\n",
        "                                        download=True, transform=resnet_transforms)\n",
        "\n",
        "print('Size of training dataset :', len(dataset))"
      ],
      "metadata": {
        "colab": {
          "base_uri": "https://localhost:8080/"
        },
        "id": "JHz-aPjwlCcZ",
        "outputId": "1a5ed68a-a906-44f3-f979-774a5c73b114"
      },
      "execution_count": null,
      "outputs": [
        {
          "output_type": "stream",
          "name": "stdout",
          "text": [
            "Files already downloaded and verified\n",
            "Size of training dataset : 50000\n"
          ]
        }
      ]
    },
    {
      "cell_type": "code",
      "source": [
        "# Setting seed so that value won't change everytime. \n",
        "# Splitting the dataset to training, validation, and testing category.\n",
        "torch.manual_seed(10)\n",
        "val_size = len(dataset)//20\n",
        "test_size = len(dataset)//10\n",
        "train_size = len(dataset) - val_size - test_size\n",
        "\n",
        "# Random Splitting. \n",
        "train_ds, val_ds, test_ds = random_split(dataset, [train_size, val_size, test_size])\n",
        "len(train_ds), len(val_ds),len(test_ds)  "
      ],
      "metadata": {
        "colab": {
          "base_uri": "https://localhost:8080/"
        },
        "id": "cNlR4ulIlaYP",
        "outputId": "bb356304-0ec2-4795-9e2c-7a9ad980aed1"
      },
      "execution_count": null,
      "outputs": [
        {
          "output_type": "execute_result",
          "data": {
            "text/plain": [
              "(42500, 2500, 5000)"
            ]
          },
          "metadata": {},
          "execution_count": 21
        }
      ]
    },
    {
      "cell_type": "code",
      "source": [
        "batch_size = 32 #change batch_size\n",
        "train_loader = DataLoader(train_ds, batch_size)\n",
        "val_loader = DataLoader(val_ds, batch_size)\n",
        "test_loader = DataLoader(test_ds, batch_size)"
      ],
      "metadata": {
        "id": "KtRsQ9lClh8H"
      },
      "execution_count": null,
      "outputs": []
    },
    {
      "cell_type": "code",
      "source": [
        "train_loader = DeviceDataLoader(train_loader, device)\n",
        "val_loader = DeviceDataLoader(val_loader, device)\n",
        "test_loader = DeviceDataLoader(test_loader, device)\n",
        "classes = dataset.classes\n",
        "print(classes)"
      ],
      "metadata": {
        "colab": {
          "base_uri": "https://localhost:8080/"
        },
        "id": "Mbbqu9ltlqWy",
        "outputId": "4dd12c5a-bdb3-4436-a966-958166eaa19e"
      },
      "execution_count": null,
      "outputs": [
        {
          "output_type": "stream",
          "name": "stdout",
          "text": [
            "['airplane', 'automobile', 'bird', 'cat', 'deer', 'dog', 'frog', 'horse', 'ship', 'truck']\n"
          ]
        }
      ]
    },
    {
      "cell_type": "code",
      "source": [
        "img, label = dataset[100]\n",
        "print(img.shape)\n",
        "\n",
        "input_size = 3*224*224\n",
        "output_size = 10"
      ],
      "metadata": {
        "colab": {
          "base_uri": "https://localhost:8080/"
        },
        "id": "mBw4b2g7mB3U",
        "outputId": "2f1f1a51-6d35-4b3b-b5d0-943275597c14"
      },
      "execution_count": null,
      "outputs": [
        {
          "output_type": "stream",
          "name": "stdout",
          "text": [
            "torch.Size([3, 224, 224])\n"
          ]
        }
      ]
    },
    {
      "cell_type": "code",
      "execution_count": null,
      "metadata": {
        "id": "wS27vmjWUk0M",
        "colab": {
          "base_uri": "https://localhost:8080/"
        },
        "outputId": "3c8b03b5-2e82-4f13-c704-7edc828de566"
      },
      "outputs": [
        {
          "output_type": "stream",
          "name": "stdout",
          "text": [
            "5000\n"
          ]
        }
      ],
      "source": [
        "# Hints: The following parameters can be changed to improve the accuracy\n",
        "print(test_size)\n",
        "num_epochs = 3\n",
        "lr = 0.001 \n",
        "optimizer = torch.optim.SGD(model.parameters(), lr=lr, momentum=0.9)#\n"
      ]
    },
    {
      "cell_type": "code",
      "source": [
        "start = time.time()\n",
        "fit_A(num_epochs, lr, model, train_loader, val_loader, optimizer)\n",
        "print(time.time()-start)"
      ],
      "metadata": {
        "id": "8fUKAgtc4WJg",
        "outputId": "e37d3fd6-b3b4-4ad6-b624-bde39b5d4db3",
        "colab": {
          "base_uri": "https://localhost:8080/"
        }
      },
      "execution_count": null,
      "outputs": [
        {
          "output_type": "stream",
          "name": "stdout",
          "text": [
            "{'epoch': 1, 'train_loss': 0.08232018858526516, 'train_acc': 97.58588235294117, 'val_acc': 94.72, 'val_loss': 0.14931098589838682}\n",
            "{'epoch': 2, 'train_loss': 0.12908486421118393, 'train_acc': 95.53647058823529, 'val_acc': 92.8, 'val_loss': 0.20496676833946495}\n",
            "{'epoch': 3, 'train_loss': 0.067612780021944, 'train_acc': 97.64, 'val_acc': 94.32, 'val_loss': 0.17474401642309054}\n",
            "Finished Training\n",
            "1755.2895920276642\n"
          ]
        }
      ]
    },
    {
      "cell_type": "code",
      "source": [
        "show_graph(num_epochs,model)"
      ],
      "metadata": {
        "id": "c4AOjChJENLo",
        "outputId": "6dca456d-00f5-4ee8-de87-b9a2b8ae9440",
        "colab": {
          "base_uri": "https://localhost:8080/",
          "height": 562
        }
      },
      "execution_count": null,
      "outputs": [
        {
          "output_type": "stream",
          "name": "stdout",
          "text": [
            "[97.58588235294117, 95.53647058823529, 97.64]\n"
          ]
        },
        {
          "output_type": "display_data",
          "data": {
            "text/plain": [
              "<Figure size 360x288 with 1 Axes>"
            ],
            "image/png": "[encoded data removed]"
          },
          "metadata": {
            "needs_background": "light"
          }
        },
        {
          "output_type": "display_data",
          "data": {
            "text/plain": [
              "<Figure size 360x288 with 1 Axes>"
            ],
            "image/png": "[encoded data removed]"
          },
          "metadata": {
            "needs_background": "light"
          }
        }
      ]
    },
    {
      "cell_type": "code",
      "execution_count": null,
      "metadata": {
        "id": "G1A9PYs1Ugt_",
        "outputId": "19b64b0d-f97b-4701-c422-40387c889ad6",
        "colab": {
          "base_uri": "https://localhost:8080/"
        }
      },
      "outputs": [
        {
          "output_type": "stream",
          "name": "stdout",
          "text": [
            "94.18 0.1774718699959006\n"
          ]
        }
      ],
      "source": [
        "test_acc,test_loss = acc_and_loss(model,test_loader,optimizer)\n",
        "print(test_acc, test_loss)"
      ]
    },
    {
      "cell_type": "markdown",
      "metadata": {
        "id": "30W_gAqhVI09"
      },
      "source": [
        "##FLOPs"
      ]
    },
    {
      "cell_type": "code",
      "execution_count": null,
      "metadata": {
        "id": "bIx3zX87VNBw",
        "outputId": "47804e17-47f6-404d-ebb0-1acc7145a3ff",
        "colab": {
          "base_uri": "https://localhost:8080/"
        }
      },
      "outputs": [
        {
          "output_type": "stream",
          "name": "stdout",
          "text": [
            "--2022-10-27 07:12:39--  https://cloudstor.aarnet.edu.au/plus/s/hXo1dK9SZqiEVn9/download\n",
            "Resolving cloudstor.aarnet.edu.au (cloudstor.aarnet.edu.au)... 202.158.207.20\n",
            "Connecting to cloudstor.aarnet.edu.au (cloudstor.aarnet.edu.au)|202.158.207.20|:443... connected.\n",
            "HTTP request sent, awaiting response... 200 OK\n",
            "Syntax error in Set-Cookie: 5230042dc1897=qdh9ahucavp2p5tm5k6pp2nu3r; path=/plus;; Secure at position 53.\n",
            "Syntax error in Set-Cookie: oc_sessionPassphrase=COzxKu%2FEB%2FTKc4WWc%2BCGD635PIOmX0MJKdammL6%2B%2FWDThMtguTw9b84gNHxGTwa9jnwlPypL5cE2sogVhPjojRZJ1ciaP6NixkALcBqkPIGgdj3Ex%2BX8iMQYoOMktvmN; expires=Fri, 28-Oct-2022 07:12:40 GMT; Max-Age=86400; path=/plus;; Secure at position 228.\n",
            "Length: 5201 (5.1K) [text/x-python]\n",
            "Saving to: ‘download’\n",
            "\n",
            "download            100%[===================>]   5.08K  --.-KB/s    in 0s      \n",
            "\n",
            "2022-10-27 07:12:40 (913 MB/s) - ‘download’ saved [5201/5201]\n",
            "\n"
          ]
        }
      ],
      "source": [
        "  #The code from https://cloudstor.aarnet.edu.au/plus/s/PcSc67ZncTSQP0E can be used to count flops\n",
        "  #Download the code.\n",
        "  !wget -c https://cloudstor.aarnet.edu.au/plus/s/hXo1dK9SZqiEVn9/download\n",
        "  !mv download FLOPs_counter.py\n",
        "  #!rm -rf download"
      ]
    },
    {
      "cell_type": "code",
      "execution_count": null,
      "metadata": {
        "id": "jhLcWbq2VRYa",
        "outputId": "5541a2ce-b0ab-4f14-af73-01c86aada226",
        "colab": {
          "base_uri": "https://localhost:8080/"
        }
      },
      "outputs": [
        {
          "output_type": "stream",
          "name": "stdout",
          "text": [
            " + Number of FLOPs: 8.17G\n"
          ]
        }
      ],
      "source": [
        "from FLOPs_counter import print_model_parm_flops\n",
        "input = torch.randn(1, 3, 224, 224) # The input size should be the same as the size that you put into your model \n",
        "#Get the network and its FLOPs\n",
        "num_classes = len(classes)\n",
        "model = resnet50(weights=resnet_transforms, progress=True)\n",
        "print_model_parm_flops(model, input, detail=False)"
      ]
    },
    {
      "cell_type": "code",
      "source": [],
      "metadata": {
        "id": "EJZvb76zVJjw"
      },
      "execution_count": null,
      "outputs": []
    }
  ],
  "metadata": {
    "accelerator": "GPU",
    "colab": {
      "provenance": [],
      "collapsed_sections": [
        "e7Ijtx5btTui"
      ],
      "machine_shape": "hm",
      "include_colab_link": true
    },
    "kernelspec": {
      "display_name": "Python 3",
      "name": "python3"
    },
    "language_info": {
      "name": "python"
    },
    "gpuClass": "premium"
  },
  "nbformat": 4,
  "nbformat_minor": 0
}