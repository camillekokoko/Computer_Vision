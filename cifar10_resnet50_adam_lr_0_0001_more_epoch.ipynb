{
  "cells": [
    {
      "cell_type": "markdown",
      "metadata": {
        "id": "view-in-github",
        "colab_type": "text"
      },
      "source": [
        "<a href=\"https://colab.research.google.com/github/CamilleKoSzePui/DL_as2/blob/main/cifar10_resnet50_adam_lr_0_0001_more_epoch.ipynb\" target=\"_parent\"><img src=\"https://colab.research.google.com/assets/colab-badge.svg\" alt=\"Open In Colab\"/></a>"
      ]
    },
    {
      "cell_type": "markdown",
      "source": [
        "# RUN FIRST"
      ],
      "metadata": {
        "id": "e7Ijtx5btTui"
      }
    },
    {
      "cell_type": "code",
      "execution_count": null,
      "metadata": {
        "id": "YsXCfZg3KA5B"
      },
      "outputs": [],
      "source": [
        "# Importing libraries. \n",
        "\n",
        "import os\n",
        "import random\n",
        "import numpy as np\n",
        "import torch\n",
        "import torch.nn as nn\n",
        "import torch.nn.functional as F\n",
        "from tqdm.notebook import tqdm\n",
        "import time \n",
        "\n",
        "# To avoid non-essential warnings \n",
        "import warnings\n",
        "warnings.filterwarnings('ignore')\n",
        "\n",
        "from torchvision import datasets, transforms, models \n",
        "from torchvision.datasets import ImageFolder\n",
        "from torchvision.transforms import ToTensor\n",
        "from torchvision.utils import make_grid\n",
        "from torch.utils.data import random_split\n",
        "from torch.utils.data.dataloader import DataLoader\n",
        "\n",
        "from torchvision.models import resnet18, ResNet18_Weights, resnet50, ResNet50_Weights\n",
        "\n",
        "import matplotlib.pyplot as plt\n",
        "%matplotlib inline"
      ]
    },
    {
      "cell_type": "code",
      "execution_count": null,
      "metadata": {
        "id": "ZhgDWEtmOtgl"
      },
      "outputs": [],
      "source": [
        "# Preview one of the images..\n",
        "def show_image(img, label):\n",
        "    plt.figure(figsize=(1,1))\n",
        "    print('Label: ', dataset.classes[label], \"(\"+str(label)+\")\")\n",
        "    plt.imshow(img.permute(1,2,0))"
      ]
    },
    {
      "cell_type": "code",
      "execution_count": null,
      "metadata": {
        "id": "H-2gGT4iRthd"
      },
      "outputs": [],
      "source": [
        " # To check wether Google Colab GPU has been assigned/not. \n",
        "\n",
        "def get_default_device():\n",
        "    \"\"\"Pick GPU if available, else CPU\"\"\"\n",
        "    if torch.cuda.is_available():\n",
        "        return torch.device('cuda')\n",
        "    else:\n",
        "        return None\n",
        "    \n",
        "def to_device(data, device):\n",
        "    \"\"\"Move tensor(s) to chosen device\"\"\"\n",
        "    if isinstance(data, (list,tuple)):\n",
        "        return [to_device(x, device) for x in data]\n",
        "    return data.to(device, non_blocking=True)\n",
        "\n",
        "class DeviceDataLoader():\n",
        "    \"\"\"Wrap a dataloader to move data to a device\"\"\"\n",
        "    def __init__(self, dl, device):\n",
        "        self.dl = dl\n",
        "        self.device = device\n",
        "        \n",
        "    def __iter__(self):\n",
        "        \"\"\"Yield a batch of data after moving it to device\"\"\"\n",
        "        for b in self.dl: \n",
        "            yield to_device(b, self.device)\n",
        "\n",
        "    def __len__(self):\n",
        "        \"\"\"Number of batches\"\"\"\n",
        "        return len(self.dl)"
      ]
    },
    {
      "cell_type": "code",
      "execution_count": null,
      "metadata": {
        "id": "UnJ0fHw3Ry6D",
        "colab": {
          "base_uri": "https://localhost:8080/"
        },
        "outputId": "0ec6d3e3-0854-4020-ce5f-316fd26f48a3"
      },
      "outputs": [
        {
          "output_type": "execute_result",
          "data": {
            "text/plain": [
              "device(type='cuda')"
            ]
          },
          "metadata": {},
          "execution_count": 83
        }
      ],
      "source": [
        "device = get_default_device()\n",
        "device"
      ]
    },
    {
      "cell_type": "code",
      "execution_count": null,
      "metadata": {
        "id": "Yp66PsS8T_tk"
      },
      "outputs": [],
      "source": [
        "def acc_and_loss(model,loader,opt):\n",
        "\n",
        "        model.eval()\n",
        "        losses = []\n",
        "        acc_lst = []\n",
        "        mean_loss,acc = 0,0\n",
        "        lbl_sz =0\n",
        "        # criterion = cpt\n",
        "        optimizer = opt\n",
        "        #NO gradient required as not training\n",
        "        with torch.no_grad():\n",
        "            for i, data in enumerate(loader, 0):\n",
        "                # get the inputs\n",
        "                inputs, labels = data[0].to(get_default_device()), data[1].to(get_default_device())\n",
        "                outputs = model(inputs)\n",
        "                #Accuracy\n",
        "                lbl_sz+=labels.size(0)\n",
        "                _, predicted = torch.max(outputs.data, 1)\n",
        "                itm = (predicted == labels).sum().item()\n",
        "                acc_lst.append(itm)\n",
        "                #losses\n",
        "                loss = F.cross_entropy(outputs, labels)\n",
        "                losses.append(loss.item())\n",
        "        mean_loss = np.mean(losses)\n",
        "        acc=(100 * np.sum(acc_lst) / lbl_sz)\n",
        "        return  acc,mean_loss\n",
        "\n",
        "def fit_A(epochs, lr, model, train_loader, val_loader, opt_func=torch.optim.Adam): #this works\n",
        "  n_total_steps = len(train_loader)\n",
        "  train_stats = []\n",
        "  for epoch in range(num_epochs):\n",
        "      for i, (images, labels) in enumerate(train_loader):\n",
        "          # origin shape: [4, 3, 32, 32] = 4, 3, 1024\n",
        "          # input_layer: 3 input channels, 6 output channels, 5 kernel size\n",
        "          images = images.to(device)\n",
        "          labels = labels.to(device)\n",
        "\n",
        "          # Forward pass\n",
        "          outputs = model(images)\n",
        "          loss = F.cross_entropy(outputs, labels)\n",
        "\n",
        "          # Backward and optimize\n",
        "          opt_func.zero_grad()\n",
        "          loss.backward()\n",
        "          opt_func.step()\n",
        "\n",
        "          if (i+1) % 2000 == 0:\n",
        "              print (f'Epoch [{epoch+1}/{num_epochs}], Step [{i+1}/{n_total_steps}], Loss: {loss.item():.4f}')\n",
        "      train_acc,train_loss = acc_and_loss(model,train_loader,opt_func)\n",
        "      val_acc,val_loss = acc_and_loss(model,val_loader,opt_func)\n",
        "\n",
        "      train_stat = {\"epoch\" : epoch+1,\"train_loss\" :train_loss,\"train_acc\" :train_acc,\"val_acc\": val_acc,\"val_loss\":val_loss}\n",
        "      print(train_stat)\n",
        "      train_stats.append(train_stat)\n",
        "      model.train_stats = train_stats\n",
        "  print('Finished Training')\n",
        "\n",
        "def show_graph(epochs,model):\n",
        "   train_accuracies = [x['train_acc'] for x in model.train_stats]\n",
        "   val_accuracies = [x['val_acc'] for x in model.train_stats]  \n",
        "   train_losses = [x['train_loss'] for x in model.train_stats]\n",
        "   val_losses = [x['val_loss'] for x in model.train_stats] \n",
        "   print(train_accuracies)\n",
        "   \n",
        "   plt.figure(figsize=(5, 4))\n",
        "   plt.title(\"Plotting Training/Validation Loss vs Epochs\")\n",
        "   plt.plot(np.arange(epochs), val_losses, label = \"Validation Loss\")\n",
        "   plt.plot(np.arange(epochs), train_losses, label = \"Training Loss\")\n",
        "   plt.legend()\n",
        "   plt.show()\n",
        "   \n",
        "   plt.figure(figsize=(5, 4))\n",
        "   plt.title(\"Plotting Training/Validation Accuracy  vs Epochs\")\n",
        "   plt.plot(np.arange(epochs), val_accuracies, label = \"Validation Accuracy\")\n",
        "   plt.plot(np.arange(epochs), train_accuracies, label = \"Training Accuracy\")\n",
        "   plt.legend()\n",
        "   plt.show()\n",
        "\n",
        "def acc_by_class(batch_size,model, val_loader):\n",
        "  with torch.no_grad():\n",
        "      n_correct = 0\n",
        "      n_samples = 0\n",
        "      n_class_correct = [0 for i in range(10)]\n",
        "      n_class_samples = [0 for i in range(10)]\n",
        "      for images, labels in val_loader:\n",
        "          images = images.to(device)\n",
        "          labels = labels.to(device)\n",
        "          outputs = model(images)\n",
        "          # max returns (value ,index)\n",
        "          _, predicted = torch.max(outputs, 1)\n",
        "          n_samples += labels.size(0)\n",
        "          n_correct += (predicted == labels).sum().item()\n",
        "          \n",
        "          for i in range(batch_size):\n",
        "              label = labels[i]\n",
        "              pred = predicted[i]\n",
        "              if (label == pred):\n",
        "                  n_class_correct[label] += 1\n",
        "              n_class_samples[label] += 1\n",
        "\n",
        "      acc = 100.0 * n_correct / n_samples\n",
        "      print(f'Accuracy of the network: {acc} %')\n",
        "\n",
        "      for i in range(10):\n",
        "          acc = 100.0 * n_class_correct[i] / n_class_samples[i]\n",
        "          print(f'Accuracy of {classes[i]}: {acc} %')"
      ]
    },
    {
      "cell_type": "markdown",
      "source": [
        "# Experiment 0"
      ],
      "metadata": {
        "id": "NRS6O1wPtR4k"
      }
    },
    {
      "cell_type": "code",
      "execution_count": null,
      "metadata": {
        "id": "ds1_BIy6Sse5",
        "colab": {
          "base_uri": "https://localhost:8080/"
        },
        "outputId": "889178be-2a33-4a18-8683-5f704e84eb2a"
      },
      "outputs": [
        {
          "output_type": "stream",
          "name": "stdout",
          "text": [
            "ImageClassification(\n",
            "    crop_size=[224]\n",
            "    resize_size=[232]\n",
            "    mean=[0.485, 0.456, 0.406]\n",
            "    std=[0.229, 0.224, 0.225]\n",
            "    interpolation=InterpolationMode.BILINEAR\n",
            ")\n",
            "ResNet(\n",
            "  (conv1): Conv2d(3, 64, kernel_size=(7, 7), stride=(2, 2), padding=(3, 3), bias=False)\n",
            "  (bn1): BatchNorm2d(64, eps=1e-05, momentum=0.1, affine=True, track_running_stats=True)\n",
            "  (relu): ReLU(inplace=True)\n",
            "  (maxpool): MaxPool2d(kernel_size=3, stride=2, padding=1, dilation=1, ceil_mode=False)\n",
            "  (layer1): Sequential(\n",
            "    (0): Bottleneck(\n",
            "      (conv1): Conv2d(64, 64, kernel_size=(1, 1), stride=(1, 1), bias=False)\n",
            "      (bn1): BatchNorm2d(64, eps=1e-05, momentum=0.1, affine=True, track_running_stats=True)\n",
            "      (conv2): Conv2d(64, 64, kernel_size=(3, 3), stride=(1, 1), padding=(1, 1), bias=False)\n",
            "      (bn2): BatchNorm2d(64, eps=1e-05, momentum=0.1, affine=True, track_running_stats=True)\n",
            "      (conv3): Conv2d(64, 256, kernel_size=(1, 1), stride=(1, 1), bias=False)\n",
            "      (bn3): BatchNorm2d(256, eps=1e-05, momentum=0.1, affine=True, track_running_stats=True)\n",
            "      (relu): ReLU(inplace=True)\n",
            "      (downsample): Sequential(\n",
            "        (0): Conv2d(64, 256, kernel_size=(1, 1), stride=(1, 1), bias=False)\n",
            "        (1): BatchNorm2d(256, eps=1e-05, momentum=0.1, affine=True, track_running_stats=True)\n",
            "      )\n",
            "    )\n",
            "    (1): Bottleneck(\n",
            "      (conv1): Conv2d(256, 64, kernel_size=(1, 1), stride=(1, 1), bias=False)\n",
            "      (bn1): BatchNorm2d(64, eps=1e-05, momentum=0.1, affine=True, track_running_stats=True)\n",
            "      (conv2): Conv2d(64, 64, kernel_size=(3, 3), stride=(1, 1), padding=(1, 1), bias=False)\n",
            "      (bn2): BatchNorm2d(64, eps=1e-05, momentum=0.1, affine=True, track_running_stats=True)\n",
            "      (conv3): Conv2d(64, 256, kernel_size=(1, 1), stride=(1, 1), bias=False)\n",
            "      (bn3): BatchNorm2d(256, eps=1e-05, momentum=0.1, affine=True, track_running_stats=True)\n",
            "      (relu): ReLU(inplace=True)\n",
            "    )\n",
            "    (2): Bottleneck(\n",
            "      (conv1): Conv2d(256, 64, kernel_size=(1, 1), stride=(1, 1), bias=False)\n",
            "      (bn1): BatchNorm2d(64, eps=1e-05, momentum=0.1, affine=True, track_running_stats=True)\n",
            "      (conv2): Conv2d(64, 64, kernel_size=(3, 3), stride=(1, 1), padding=(1, 1), bias=False)\n",
            "      (bn2): BatchNorm2d(64, eps=1e-05, momentum=0.1, affine=True, track_running_stats=True)\n",
            "      (conv3): Conv2d(64, 256, kernel_size=(1, 1), stride=(1, 1), bias=False)\n",
            "      (bn3): BatchNorm2d(256, eps=1e-05, momentum=0.1, affine=True, track_running_stats=True)\n",
            "      (relu): ReLU(inplace=True)\n",
            "    )\n",
            "  )\n",
            "  (layer2): Sequential(\n",
            "    (0): Bottleneck(\n",
            "      (conv1): Conv2d(256, 128, kernel_size=(1, 1), stride=(1, 1), bias=False)\n",
            "      (bn1): BatchNorm2d(128, eps=1e-05, momentum=0.1, affine=True, track_running_stats=True)\n",
            "      (conv2): Conv2d(128, 128, kernel_size=(3, 3), stride=(2, 2), padding=(1, 1), bias=False)\n",
            "      (bn2): BatchNorm2d(128, eps=1e-05, momentum=0.1, affine=True, track_running_stats=True)\n",
            "      (conv3): Conv2d(128, 512, kernel_size=(1, 1), stride=(1, 1), bias=False)\n",
            "      (bn3): BatchNorm2d(512, eps=1e-05, momentum=0.1, affine=True, track_running_stats=True)\n",
            "      (relu): ReLU(inplace=True)\n",
            "      (downsample): Sequential(\n",
            "        (0): Conv2d(256, 512, kernel_size=(1, 1), stride=(2, 2), bias=False)\n",
            "        (1): BatchNorm2d(512, eps=1e-05, momentum=0.1, affine=True, track_running_stats=True)\n",
            "      )\n",
            "    )\n",
            "    (1): Bottleneck(\n",
            "      (conv1): Conv2d(512, 128, kernel_size=(1, 1), stride=(1, 1), bias=False)\n",
            "      (bn1): BatchNorm2d(128, eps=1e-05, momentum=0.1, affine=True, track_running_stats=True)\n",
            "      (conv2): Conv2d(128, 128, kernel_size=(3, 3), stride=(1, 1), padding=(1, 1), bias=False)\n",
            "      (bn2): BatchNorm2d(128, eps=1e-05, momentum=0.1, affine=True, track_running_stats=True)\n",
            "      (conv3): Conv2d(128, 512, kernel_size=(1, 1), stride=(1, 1), bias=False)\n",
            "      (bn3): BatchNorm2d(512, eps=1e-05, momentum=0.1, affine=True, track_running_stats=True)\n",
            "      (relu): ReLU(inplace=True)\n",
            "    )\n",
            "    (2): Bottleneck(\n",
            "      (conv1): Conv2d(512, 128, kernel_size=(1, 1), stride=(1, 1), bias=False)\n",
            "      (bn1): BatchNorm2d(128, eps=1e-05, momentum=0.1, affine=True, track_running_stats=True)\n",
            "      (conv2): Conv2d(128, 128, kernel_size=(3, 3), stride=(1, 1), padding=(1, 1), bias=False)\n",
            "      (bn2): BatchNorm2d(128, eps=1e-05, momentum=0.1, affine=True, track_running_stats=True)\n",
            "      (conv3): Conv2d(128, 512, kernel_size=(1, 1), stride=(1, 1), bias=False)\n",
            "      (bn3): BatchNorm2d(512, eps=1e-05, momentum=0.1, affine=True, track_running_stats=True)\n",
            "      (relu): ReLU(inplace=True)\n",
            "    )\n",
            "    (3): Bottleneck(\n",
            "      (conv1): Conv2d(512, 128, kernel_size=(1, 1), stride=(1, 1), bias=False)\n",
            "      (bn1): BatchNorm2d(128, eps=1e-05, momentum=0.1, affine=True, track_running_stats=True)\n",
            "      (conv2): Conv2d(128, 128, kernel_size=(3, 3), stride=(1, 1), padding=(1, 1), bias=False)\n",
            "      (bn2): BatchNorm2d(128, eps=1e-05, momentum=0.1, affine=True, track_running_stats=True)\n",
            "      (conv3): Conv2d(128, 512, kernel_size=(1, 1), stride=(1, 1), bias=False)\n",
            "      (bn3): BatchNorm2d(512, eps=1e-05, momentum=0.1, affine=True, track_running_stats=True)\n",
            "      (relu): ReLU(inplace=True)\n",
            "    )\n",
            "  )\n",
            "  (layer3): Sequential(\n",
            "    (0): Bottleneck(\n",
            "      (conv1): Conv2d(512, 256, kernel_size=(1, 1), stride=(1, 1), bias=False)\n",
            "      (bn1): BatchNorm2d(256, eps=1e-05, momentum=0.1, affine=True, track_running_stats=True)\n",
            "      (conv2): Conv2d(256, 256, kernel_size=(3, 3), stride=(2, 2), padding=(1, 1), bias=False)\n",
            "      (bn2): BatchNorm2d(256, eps=1e-05, momentum=0.1, affine=True, track_running_stats=True)\n",
            "      (conv3): Conv2d(256, 1024, kernel_size=(1, 1), stride=(1, 1), bias=False)\n",
            "      (bn3): BatchNorm2d(1024, eps=1e-05, momentum=0.1, affine=True, track_running_stats=True)\n",
            "      (relu): ReLU(inplace=True)\n",
            "      (downsample): Sequential(\n",
            "        (0): Conv2d(512, 1024, kernel_size=(1, 1), stride=(2, 2), bias=False)\n",
            "        (1): BatchNorm2d(1024, eps=1e-05, momentum=0.1, affine=True, track_running_stats=True)\n",
            "      )\n",
            "    )\n",
            "    (1): Bottleneck(\n",
            "      (conv1): Conv2d(1024, 256, kernel_size=(1, 1), stride=(1, 1), bias=False)\n",
            "      (bn1): BatchNorm2d(256, eps=1e-05, momentum=0.1, affine=True, track_running_stats=True)\n",
            "      (conv2): Conv2d(256, 256, kernel_size=(3, 3), stride=(1, 1), padding=(1, 1), bias=False)\n",
            "      (bn2): BatchNorm2d(256, eps=1e-05, momentum=0.1, affine=True, track_running_stats=True)\n",
            "      (conv3): Conv2d(256, 1024, kernel_size=(1, 1), stride=(1, 1), bias=False)\n",
            "      (bn3): BatchNorm2d(1024, eps=1e-05, momentum=0.1, affine=True, track_running_stats=True)\n",
            "      (relu): ReLU(inplace=True)\n",
            "    )\n",
            "    (2): Bottleneck(\n",
            "      (conv1): Conv2d(1024, 256, kernel_size=(1, 1), stride=(1, 1), bias=False)\n",
            "      (bn1): BatchNorm2d(256, eps=1e-05, momentum=0.1, affine=True, track_running_stats=True)\n",
            "      (conv2): Conv2d(256, 256, kernel_size=(3, 3), stride=(1, 1), padding=(1, 1), bias=False)\n",
            "      (bn2): BatchNorm2d(256, eps=1e-05, momentum=0.1, affine=True, track_running_stats=True)\n",
            "      (conv3): Conv2d(256, 1024, kernel_size=(1, 1), stride=(1, 1), bias=False)\n",
            "      (bn3): BatchNorm2d(1024, eps=1e-05, momentum=0.1, affine=True, track_running_stats=True)\n",
            "      (relu): ReLU(inplace=True)\n",
            "    )\n",
            "    (3): Bottleneck(\n",
            "      (conv1): Conv2d(1024, 256, kernel_size=(1, 1), stride=(1, 1), bias=False)\n",
            "      (bn1): BatchNorm2d(256, eps=1e-05, momentum=0.1, affine=True, track_running_stats=True)\n",
            "      (conv2): Conv2d(256, 256, kernel_size=(3, 3), stride=(1, 1), padding=(1, 1), bias=False)\n",
            "      (bn2): BatchNorm2d(256, eps=1e-05, momentum=0.1, affine=True, track_running_stats=True)\n",
            "      (conv3): Conv2d(256, 1024, kernel_size=(1, 1), stride=(1, 1), bias=False)\n",
            "      (bn3): BatchNorm2d(1024, eps=1e-05, momentum=0.1, affine=True, track_running_stats=True)\n",
            "      (relu): ReLU(inplace=True)\n",
            "    )\n",
            "    (4): Bottleneck(\n",
            "      (conv1): Conv2d(1024, 256, kernel_size=(1, 1), stride=(1, 1), bias=False)\n",
            "      (bn1): BatchNorm2d(256, eps=1e-05, momentum=0.1, affine=True, track_running_stats=True)\n",
            "      (conv2): Conv2d(256, 256, kernel_size=(3, 3), stride=(1, 1), padding=(1, 1), bias=False)\n",
            "      (bn2): BatchNorm2d(256, eps=1e-05, momentum=0.1, affine=True, track_running_stats=True)\n",
            "      (conv3): Conv2d(256, 1024, kernel_size=(1, 1), stride=(1, 1), bias=False)\n",
            "      (bn3): BatchNorm2d(1024, eps=1e-05, momentum=0.1, affine=True, track_running_stats=True)\n",
            "      (relu): ReLU(inplace=True)\n",
            "    )\n",
            "    (5): Bottleneck(\n",
            "      (conv1): Conv2d(1024, 256, kernel_size=(1, 1), stride=(1, 1), bias=False)\n",
            "      (bn1): BatchNorm2d(256, eps=1e-05, momentum=0.1, affine=True, track_running_stats=True)\n",
            "      (conv2): Conv2d(256, 256, kernel_size=(3, 3), stride=(1, 1), padding=(1, 1), bias=False)\n",
            "      (bn2): BatchNorm2d(256, eps=1e-05, momentum=0.1, affine=True, track_running_stats=True)\n",
            "      (conv3): Conv2d(256, 1024, kernel_size=(1, 1), stride=(1, 1), bias=False)\n",
            "      (bn3): BatchNorm2d(1024, eps=1e-05, momentum=0.1, affine=True, track_running_stats=True)\n",
            "      (relu): ReLU(inplace=True)\n",
            "    )\n",
            "  )\n",
            "  (layer4): Sequential(\n",
            "    (0): Bottleneck(\n",
            "      (conv1): Conv2d(1024, 512, kernel_size=(1, 1), stride=(1, 1), bias=False)\n",
            "      (bn1): BatchNorm2d(512, eps=1e-05, momentum=0.1, affine=True, track_running_stats=True)\n",
            "      (conv2): Conv2d(512, 512, kernel_size=(3, 3), stride=(2, 2), padding=(1, 1), bias=False)\n",
            "      (bn2): BatchNorm2d(512, eps=1e-05, momentum=0.1, affine=True, track_running_stats=True)\n",
            "      (conv3): Conv2d(512, 2048, kernel_size=(1, 1), stride=(1, 1), bias=False)\n",
            "      (bn3): BatchNorm2d(2048, eps=1e-05, momentum=0.1, affine=True, track_running_stats=True)\n",
            "      (relu): ReLU(inplace=True)\n",
            "      (downsample): Sequential(\n",
            "        (0): Conv2d(1024, 2048, kernel_size=(1, 1), stride=(2, 2), bias=False)\n",
            "        (1): BatchNorm2d(2048, eps=1e-05, momentum=0.1, affine=True, track_running_stats=True)\n",
            "      )\n",
            "    )\n",
            "    (1): Bottleneck(\n",
            "      (conv1): Conv2d(2048, 512, kernel_size=(1, 1), stride=(1, 1), bias=False)\n",
            "      (bn1): BatchNorm2d(512, eps=1e-05, momentum=0.1, affine=True, track_running_stats=True)\n",
            "      (conv2): Conv2d(512, 512, kernel_size=(3, 3), stride=(1, 1), padding=(1, 1), bias=False)\n",
            "      (bn2): BatchNorm2d(512, eps=1e-05, momentum=0.1, affine=True, track_running_stats=True)\n",
            "      (conv3): Conv2d(512, 2048, kernel_size=(1, 1), stride=(1, 1), bias=False)\n",
            "      (bn3): BatchNorm2d(2048, eps=1e-05, momentum=0.1, affine=True, track_running_stats=True)\n",
            "      (relu): ReLU(inplace=True)\n",
            "    )\n",
            "    (2): Bottleneck(\n",
            "      (conv1): Conv2d(2048, 512, kernel_size=(1, 1), stride=(1, 1), bias=False)\n",
            "      (bn1): BatchNorm2d(512, eps=1e-05, momentum=0.1, affine=True, track_running_stats=True)\n",
            "      (conv2): Conv2d(512, 512, kernel_size=(3, 3), stride=(1, 1), padding=(1, 1), bias=False)\n",
            "      (bn2): BatchNorm2d(512, eps=1e-05, momentum=0.1, affine=True, track_running_stats=True)\n",
            "      (conv3): Conv2d(512, 2048, kernel_size=(1, 1), stride=(1, 1), bias=False)\n",
            "      (bn3): BatchNorm2d(2048, eps=1e-05, momentum=0.1, affine=True, track_running_stats=True)\n",
            "      (relu): ReLU(inplace=True)\n",
            "    )\n",
            "  )\n",
            "  (avgpool): AdaptiveAvgPool2d(output_size=(1, 1))\n",
            "  (fc): Linear(in_features=2048, out_features=10, bias=True)\n",
            ")\n"
          ]
        }
      ],
      "source": [
        "# Model print\n",
        "\n",
        "# resnet_weights = ResNet18_Weights.DEFAULT\n",
        "resnet_weights = ResNet50_Weights.DEFAULT\n",
        "resnet_transforms = resnet_weights.transforms()\n",
        "print(resnet_transforms)\n",
        "# model = resnet18(weights=resnet_transforms, progress=True)\n",
        "model = resnet50(weights=resnet_transforms, progress=True)\n",
        "model.fc = nn.Linear(2048, 10) \n",
        "model.to(device)\n",
        "print(model)"
      ]
    },
    {
      "cell_type": "code",
      "source": [
        "# Checking the dataset training size.\n",
        "dataset = datasets.CIFAR10(root='./data', train=True,\n",
        "                                        download=True, transform=resnet_transforms)\n",
        "\n",
        "print('Size of training dataset :', len(dataset))"
      ],
      "metadata": {
        "colab": {
          "base_uri": "https://localhost:8080/"
        },
        "id": "JHz-aPjwlCcZ",
        "outputId": "e949ae96-5fef-43fc-c572-85adc3be1532"
      },
      "execution_count": null,
      "outputs": [
        {
          "output_type": "stream",
          "name": "stdout",
          "text": [
            "Files already downloaded and verified\n",
            "Size of training dataset : 50000\n"
          ]
        }
      ]
    },
    {
      "cell_type": "code",
      "source": [
        "# Setting seed so that value won't change everytime. \n",
        "# Splitting the dataset to training, validation, and testing category.\n",
        "torch.manual_seed(10)\n",
        "val_size = len(dataset)//20\n",
        "test_size = len(dataset)//10\n",
        "train_size = len(dataset) - val_size - test_size\n",
        "\n",
        "# Random Splitting. \n",
        "train_ds, val_ds, test_ds = random_split(dataset, [train_size, val_size, test_size])\n",
        "len(train_ds), len(val_ds),len(test_ds)  "
      ],
      "metadata": {
        "colab": {
          "base_uri": "https://localhost:8080/"
        },
        "id": "cNlR4ulIlaYP",
        "outputId": "0144982d-9053-4974-8371-04072e462aa2"
      },
      "execution_count": null,
      "outputs": [
        {
          "output_type": "execute_result",
          "data": {
            "text/plain": [
              "(42500, 2500, 5000)"
            ]
          },
          "metadata": {},
          "execution_count": 87
        }
      ]
    },
    {
      "cell_type": "code",
      "source": [
        "batch_size = 32 #change batch_size\n",
        "train_loader = DataLoader(train_ds, batch_size)\n",
        "val_loader = DataLoader(val_ds, batch_size)\n",
        "test_loader = DataLoader(test_ds, batch_size)"
      ],
      "metadata": {
        "id": "KtRsQ9lClh8H"
      },
      "execution_count": null,
      "outputs": []
    },
    {
      "cell_type": "code",
      "source": [
        "train_loader = DeviceDataLoader(train_loader, device)\n",
        "val_loader = DeviceDataLoader(val_loader, device)\n",
        "test_loader = DeviceDataLoader(test_loader, device)\n",
        "classes = dataset.classes\n",
        "print(classes)"
      ],
      "metadata": {
        "colab": {
          "base_uri": "https://localhost:8080/"
        },
        "id": "Mbbqu9ltlqWy",
        "outputId": "0bef1786-17af-482c-9069-8d28e5d16db0"
      },
      "execution_count": null,
      "outputs": [
        {
          "output_type": "stream",
          "name": "stdout",
          "text": [
            "['airplane', 'automobile', 'bird', 'cat', 'deer', 'dog', 'frog', 'horse', 'ship', 'truck']\n"
          ]
        }
      ]
    },
    {
      "cell_type": "code",
      "source": [
        "img, label = dataset[100]\n",
        "print(img.shape)\n",
        "\n",
        "input_size = 3*224*224\n",
        "output_size = 10"
      ],
      "metadata": {
        "colab": {
          "base_uri": "https://localhost:8080/"
        },
        "id": "mBw4b2g7mB3U",
        "outputId": "fdd3e173-c71a-4580-9909-5d17a9bb7902"
      },
      "execution_count": null,
      "outputs": [
        {
          "output_type": "stream",
          "name": "stdout",
          "text": [
            "torch.Size([3, 224, 224])\n"
          ]
        }
      ]
    },
    {
      "cell_type": "code",
      "execution_count": null,
      "metadata": {
        "id": "wS27vmjWUk0M",
        "colab": {
          "base_uri": "https://localhost:8080/"
        },
        "outputId": "cb5be3ce-a49f-4b49-be54-a187b3ce43f1"
      },
      "outputs": [
        {
          "output_type": "stream",
          "name": "stdout",
          "text": [
            "5000\n"
          ]
        }
      ],
      "source": [
        "# Hints: The following parameters can be changed to improve the accuracy\n",
        "print(test_size)\n",
        "num_epochs = 20\n",
        "lr = 0.0001 \n",
        "optimizer = torch.optim.Adam(model.parameters(), lr=lr)#\n"
      ]
    },
    {
      "cell_type": "code",
      "source": [
        "start = time.time()\n",
        "fit_A(num_epochs, lr, model, train_loader, val_loader, optimizer)\n",
        "print(time.time()-start)"
      ],
      "metadata": {
        "id": "8fUKAgtc4WJg",
        "outputId": "9711c3c0-bd93-42c0-e96e-04ff885b5663",
        "colab": {
          "base_uri": "https://localhost:8080/"
        }
      },
      "execution_count": null,
      "outputs": [
        {
          "output_type": "stream",
          "name": "stdout",
          "text": [
            "{'epoch': 1, 'train_loss': 0.12657515285221302, 'train_acc': 96.05411764705882, 'val_acc': 92.36, 'val_loss': 0.21782626344857714}\n",
            "{'epoch': 2, 'train_loss': 0.12131486047375345, 'train_acc': 95.91058823529411, 'val_acc': 92.32, 'val_loss': 0.23231721573945466}\n",
            "{'epoch': 3, 'train_loss': 0.10603754111049533, 'train_acc': 96.35058823529411, 'val_acc': 91.68, 'val_loss': 0.24636232048933265}\n",
            "{'epoch': 4, 'train_loss': 0.15251151632280716, 'train_acc': 94.70588235294117, 'val_acc': 89.2, 'val_loss': 0.3564205799322528}\n",
            "{'epoch': 5, 'train_loss': 0.08901794941358666, 'train_acc': 97.04235294117647, 'val_acc': 92.36, 'val_loss': 0.24376519251897744}\n",
            "{'epoch': 6, 'train_loss': 0.14077023304689223, 'train_acc': 95.32941176470588, 'val_acc': 89.52, 'val_loss': 0.3471903912280981}\n",
            "{'epoch': 7, 'train_loss': 0.09833846629665659, 'train_acc': 96.64, 'val_acc': 90.96, 'val_loss': 0.3204819473542591}\n",
            "{'epoch': 8, 'train_loss': 0.0584399886517344, 'train_acc': 98.08470588235294, 'val_acc': 92.64, 'val_loss': 0.24902654393234208}\n",
            "{'epoch': 9, 'train_loss': 0.07188690338224037, 'train_acc': 97.58588235294117, 'val_acc': 91.36, 'val_loss': 0.28436072888364866}\n",
            "{'epoch': 10, 'train_loss': 0.11473502149124712, 'train_acc': 96.11764705882354, 'val_acc': 89.84, 'val_loss': 0.40262801659918285}\n",
            "{'epoch': 11, 'train_loss': 0.05431318720680906, 'train_acc': 98.23529411764706, 'val_acc': 91.4, 'val_loss': 0.28571173712858766}\n",
            "{'epoch': 12, 'train_loss': 0.02796094750408814, 'train_acc': 99.14117647058823, 'val_acc': 92.88, 'val_loss': 0.23689696994386142}\n",
            "{'epoch': 13, 'train_loss': 0.07006270231585814, 'train_acc': 97.80941176470589, 'val_acc': 90.88, 'val_loss': 0.32730455015184756}\n",
            "{'epoch': 14, 'train_loss': 0.02222317557255952, 'train_acc': 99.22117647058823, 'val_acc': 94.0, 'val_loss': 0.21998355443231302}\n",
            "{'epoch': 15, 'train_loss': 0.020015298468173598, 'train_acc': 99.34588235294117, 'val_acc': 93.4, 'val_loss': 0.22764354096534015}\n",
            "{'epoch': 16, 'train_loss': 0.03964794242556124, 'train_acc': 98.6564705882353, 'val_acc': 92.04, 'val_loss': 0.3120632195532841}\n",
            "{'epoch': 17, 'train_loss': 0.05513127667480126, 'train_acc': 98.27058823529411, 'val_acc': 91.92, 'val_loss': 0.3231318922230054}\n",
            "{'epoch': 18, 'train_loss': 0.020079226800107357, 'train_acc': 99.3529411764706, 'val_acc': 93.24, 'val_loss': 0.2613911822886218}\n",
            "{'epoch': 19, 'train_loss': 0.034321278504943896, 'train_acc': 98.93176470588236, 'val_acc': 92.2, 'val_loss': 0.3338856433718642}\n",
            "{'epoch': 20, 'train_loss': 0.07782625286827659, 'train_acc': 97.72705882352942, 'val_acc': 89.96, 'val_loss': 0.4472069028865169}\n",
            "Finished Training\n",
            "4082.4960482120514\n"
          ]
        }
      ]
    },
    {
      "cell_type": "code",
      "source": [
        "show_graph(num_epochs,model)"
      ],
      "metadata": {
        "id": "c4AOjChJENLo",
        "outputId": "8e2de5b8-a2d1-4e2a-f249-37046af7571d",
        "colab": {
          "base_uri": "https://localhost:8080/",
          "height": 582
        }
      },
      "execution_count": null,
      "outputs": [
        {
          "output_type": "stream",
          "name": "stdout",
          "text": [
            "[96.05411764705882, 95.91058823529411, 96.35058823529411, 94.70588235294117, 97.04235294117647, 95.32941176470588, 96.64, 98.08470588235294, 97.58588235294117, 96.11764705882354, 98.23529411764706, 99.14117647058823, 97.80941176470589, 99.22117647058823, 99.34588235294117, 98.6564705882353, 98.27058823529411, 99.3529411764706, 98.93176470588236, 97.72705882352942]\n"
          ]
        },
        {
          "output_type": "display_data",
          "data": {
            "text/plain": [
              "<Figure size 360x288 with 1 Axes>"
            ],
            "image/png": "[encoded data removed]"
          },
          "metadata": {
            "needs_background": "light"
          }
        },
        {
          "output_type": "display_data",
          "data": {
            "text/plain": [
              "<Figure size 360x288 with 1 Axes>"
            ],
            "image/png": "[encoded data removed]"
          },
          "metadata": {
            "needs_background": "light"
          }
        }
      ]
    },
    {
      "cell_type": "code",
      "execution_count": null,
      "metadata": {
        "id": "G1A9PYs1Ugt_"
      },
      "outputs": [],
      "source": [
        "# acc_by_class(batch_size,model, val_loader)"
      ]
    },
    {
      "cell_type": "markdown",
      "metadata": {
        "id": "30W_gAqhVI09"
      },
      "source": [
        "##FLOPs"
      ]
    },
    {
      "cell_type": "code",
      "execution_count": null,
      "metadata": {
        "id": "bIx3zX87VNBw",
        "outputId": "07f4c780-393f-4437-c9cf-819aad94d554",
        "colab": {
          "base_uri": "https://localhost:8080/"
        }
      },
      "outputs": [
        {
          "output_type": "stream",
          "name": "stdout",
          "text": [
            "--2022-10-26 05:17:48--  https://cloudstor.aarnet.edu.au/plus/s/hXo1dK9SZqiEVn9/download\n",
            "Resolving cloudstor.aarnet.edu.au (cloudstor.aarnet.edu.au)... 202.158.207.20\n",
            "Connecting to cloudstor.aarnet.edu.au (cloudstor.aarnet.edu.au)|202.158.207.20|:443... failed: Connection refused.\n",
            "mv: cannot stat 'download': No such file or directory\n"
          ]
        }
      ],
      "source": [
        "  #The code from https://cloudstor.aarnet.edu.au/plus/s/PcSc67ZncTSQP0E can be used to count flops\n",
        "  #Download the code.\n",
        "  !wget -c https://cloudstor.aarnet.edu.au/plus/s/hXo1dK9SZqiEVn9/download\n",
        "  !mv download FLOPs_counter.py\n",
        "  #!rm -rf download"
      ]
    },
    {
      "cell_type": "code",
      "execution_count": null,
      "metadata": {
        "id": "jhLcWbq2VRYa",
        "outputId": "f9dde161-237d-49cf-f3c2-0995da256dfa",
        "colab": {
          "base_uri": "https://localhost:8080/",
          "height": 461
        }
      },
      "outputs": [
        {
          "output_type": "error",
          "ename": "ModuleNotFoundError",
          "evalue": "ignored",
          "traceback": [
            "\u001b[0;31m---------------------------------------------------------------------------\u001b[0m",
            "\u001b[0;31mModuleNotFoundError\u001b[0m                       Traceback (most recent call last)",
            "\u001b[0;32m<ipython-input-96-84afd6573740>\u001b[0m in \u001b[0;36m<module>\u001b[0;34m\u001b[0m\n\u001b[0;32m----> 1\u001b[0;31m \u001b[0;32mfrom\u001b[0m \u001b[0mFLOPs_counter\u001b[0m \u001b[0;32mimport\u001b[0m \u001b[0mprint_model_parm_flops\u001b[0m\u001b[0;34m\u001b[0m\u001b[0;34m\u001b[0m\u001b[0m\n\u001b[0m\u001b[1;32m      2\u001b[0m \u001b[0minput\u001b[0m \u001b[0;34m=\u001b[0m \u001b[0mtorch\u001b[0m\u001b[0;34m.\u001b[0m\u001b[0mrandn\u001b[0m\u001b[0;34m(\u001b[0m\u001b[0;36m1\u001b[0m\u001b[0;34m,\u001b[0m \u001b[0;36m3\u001b[0m\u001b[0;34m,\u001b[0m \u001b[0;36m224\u001b[0m\u001b[0;34m,\u001b[0m \u001b[0;36m224\u001b[0m\u001b[0;34m)\u001b[0m \u001b[0;31m# The input size should be the same as the size that you put into your model\u001b[0m\u001b[0;34m\u001b[0m\u001b[0;34m\u001b[0m\u001b[0m\n\u001b[1;32m      3\u001b[0m \u001b[0;31m#Get the network and its FLOPs\u001b[0m\u001b[0;34m\u001b[0m\u001b[0;34m\u001b[0m\u001b[0;34m\u001b[0m\u001b[0m\n\u001b[1;32m      4\u001b[0m \u001b[0mnum_classes\u001b[0m \u001b[0;34m=\u001b[0m \u001b[0mlen\u001b[0m\u001b[0;34m(\u001b[0m\u001b[0mclasses\u001b[0m\u001b[0;34m)\u001b[0m\u001b[0;34m\u001b[0m\u001b[0;34m\u001b[0m\u001b[0m\n\u001b[1;32m      5\u001b[0m \u001b[0mmodel\u001b[0m \u001b[0;34m=\u001b[0m \u001b[0mresnet50\u001b[0m\u001b[0;34m(\u001b[0m\u001b[0mweights\u001b[0m\u001b[0;34m=\u001b[0m\u001b[0mresnet_transforms\u001b[0m\u001b[0;34m,\u001b[0m \u001b[0mprogress\u001b[0m\u001b[0;34m=\u001b[0m\u001b[0;32mTrue\u001b[0m\u001b[0;34m)\u001b[0m\u001b[0;34m\u001b[0m\u001b[0;34m\u001b[0m\u001b[0m\n",
            "\u001b[0;31mModuleNotFoundError\u001b[0m: No module named 'FLOPs_counter'",
            "",
            "\u001b[0;31m---------------------------------------------------------------------------\u001b[0;32m\nNOTE: If your import is failing due to a missing package, you can\nmanually install dependencies using either !pip or !apt.\n\nTo view examples of installing some common dependencies, click the\n\"Open Examples\" button below.\n\u001b[0;31m---------------------------------------------------------------------------\u001b[0m\n"
          ],
          "errorDetails": {
            "actions": [
              {
                "action": "open_url",
                "actionText": "Open Examples",
                "url": "/notebooks/snippets/importing_libraries.ipynb"
              }
            ]
          }
        }
      ],
      "source": [
        "from FLOPs_counter import print_model_parm_flops\n",
        "input = torch.randn(1, 3, 224, 224) # The input size should be the same as the size that you put into your model \n",
        "#Get the network and its FLOPs\n",
        "num_classes = len(classes)\n",
        "model = resnet50(weights=resnet_transforms, progress=True)\n",
        "print_model_parm_flops(model, input, detail=False)"
      ]
    },
    {
      "cell_type": "code",
      "source": [],
      "metadata": {
        "id": "EJZvb76zVJjw"
      },
      "execution_count": null,
      "outputs": []
    }
  ],
  "metadata": {
    "accelerator": "GPU",
    "colab": {
      "provenance": [],
      "collapsed_sections": [
        "e7Ijtx5btTui",
        "NRS6O1wPtR4k"
      ],
      "machine_shape": "hm",
      "include_colab_link": true
    },
    "kernelspec": {
      "display_name": "Python 3",
      "name": "python3"
    },
    "language_info": {
      "name": "python"
    },
    "gpuClass": "premium"
  },
  "nbformat": 4,
  "nbformat_minor": 0
}