{
  "cells": [
    {
      "cell_type": "markdown",
      "metadata": {
        "id": "view-in-github",
        "colab_type": "text"
      },
      "source": [
        "<a href=\"https://colab.research.google.com/github/CamilleKoSzePui/DL_as2/blob/main/cifar10_base_adam.ipynb\" target=\"_parent\"><img src=\"https://colab.research.google.com/assets/colab-badge.svg\" alt=\"Open In Colab\"/></a>"
      ]
    },
    {
      "cell_type": "markdown",
      "source": [
        "# RUN FIRST"
      ],
      "metadata": {
        "id": "e7Ijtx5btTui"
      }
    },
    {
      "cell_type": "code",
      "execution_count": 1,
      "metadata": {
        "id": "YsXCfZg3KA5B"
      },
      "outputs": [],
      "source": [
        "# Importing libraries. \n",
        "\n",
        "import os\n",
        "import random\n",
        "import numpy as np\n",
        "import torch\n",
        "import torch.nn as nn\n",
        "import torch.nn.functional as F\n",
        "from tqdm.notebook import tqdm\n",
        "import time \n",
        "\n",
        "# To avoid non-essential warnings \n",
        "import warnings\n",
        "warnings.filterwarnings('ignore')\n",
        "\n",
        "from torchvision import datasets, transforms, models \n",
        "from torchvision.datasets import ImageFolder\n",
        "from torchvision.transforms import ToTensor\n",
        "from torchvision.utils import make_grid\n",
        "from torch.utils.data import random_split\n",
        "from torch.utils.data.dataloader import DataLoader\n",
        "import matplotlib.pyplot as plt\n",
        "%matplotlib inline"
      ]
    },
    {
      "cell_type": "code",
      "execution_count": 2,
      "metadata": {
        "id": "W6PfFlDfK41q"
      },
      "outputs": [],
      "source": [
        "# Performing Image Transformations. \n",
        "##Hints: Data Augmentation can be applied here. Have a look on RandomFlip, RandomRotation...\n",
        "transform = transforms.Compose(\n",
        "    [transforms.ToTensor(),\n",
        "     transforms.Normalize((0.5, 0.5, 0.5), (0.5, 0.5, 0.5))])\n",
        "\n"
      ]
    },
    {
      "cell_type": "code",
      "execution_count": 3,
      "metadata": {
        "id": "1lgLwj4VsH5y",
        "colab": {
          "base_uri": "https://localhost:8080/",
          "referenced_widgets": [
            "7cc2d880ca7344f4bddf390ddab1b745",
            "a0c05187109f4274a303afa0e9deefba",
            "e9c660ee67c340e498eb8f85bc2327a8",
            "0894187fe65c4b748eeb296ff6c1c867",
            "ef2ede3ae97b44cbb70ad52bbd403494",
            "b3fe2b89594b4f90a594bb2b920b2173",
            "2c84607a5fe74773a1f91762b6b40afa",
            "6d19915fe6f84fa1895475f5ec6e5728",
            "9d98b3df4f9c4ddea0daddca12e21b3a",
            "1731c57e129b4e38b663dfb27eded6bf",
            "f807841167384752ac1da9347f1dbaaf"
          ],
          "height": 0
        },
        "outputId": "e03f68d5-c006-420e-cc39-f36e8b0f3385"
      },
      "outputs": [
        {
          "output_type": "stream",
          "name": "stdout",
          "text": [
            "Downloading https://www.cs.toronto.edu/~kriz/cifar-10-python.tar.gz to ./data/cifar-10-python.tar.gz\n"
          ]
        },
        {
          "output_type": "display_data",
          "data": {
            "text/plain": [
              "  0%|          | 0/170498071 [00:00<?, ?it/s]"
            ],
            "application/vnd.jupyter.widget-view+json": {
              "version_major": 2,
              "version_minor": 0,
              "model_id": "7cc2d880ca7344f4bddf390ddab1b745"
            }
          },
          "metadata": {}
        },
        {
          "output_type": "stream",
          "name": "stdout",
          "text": [
            "Extracting ./data/cifar-10-python.tar.gz to ./data\n",
            "Size of training dataset : 50000\n"
          ]
        }
      ],
      "source": [
        "# Checking the dataset training size.\n",
        "dataset = datasets.CIFAR10(root='./data', train=True,\n",
        "                                        download=True, transform=transform)\n",
        "\n",
        "print('Size of training dataset :', len(dataset))"
      ]
    },
    {
      "cell_type": "code",
      "execution_count": 4,
      "metadata": {
        "id": "3KMeP9V4OoDa",
        "colab": {
          "base_uri": "https://localhost:8080/"
        },
        "outputId": "308ec61d-6c34-47d2-fa73-88bdc20bbd37"
      },
      "outputs": [
        {
          "output_type": "stream",
          "name": "stdout",
          "text": [
            "torch.Size([3, 32, 32])\n"
          ]
        }
      ],
      "source": [
        "# Viewing one of images shape.\n",
        "img, label = dataset[100]\n",
        "print(img.shape)"
      ]
    },
    {
      "cell_type": "code",
      "execution_count": 5,
      "metadata": {
        "id": "ZhgDWEtmOtgl"
      },
      "outputs": [],
      "source": [
        "# Preview one of the images..\n",
        "def show_image(img, label):\n",
        "    plt.figure(figsize=(1,1))\n",
        "    print('Label: ', dataset.classes[label], \"(\"+str(label)+\")\")\n",
        "    plt.imshow(img.permute(1,2,0))"
      ]
    },
    {
      "cell_type": "code",
      "execution_count": 6,
      "metadata": {
        "id": "La4sXlGpOyob",
        "colab": {
          "base_uri": "https://localhost:8080/",
          "height": 0
        },
        "outputId": "9dc9880e-8a7c-413c-a299-5c5ffb6d2da8"
      },
      "outputs": [
        {
          "output_type": "stream",
          "name": "stderr",
          "text": [
            "WARNING:matplotlib.image:Clipping input data to the valid range for imshow with RGB data ([0..1] for floats or [0..255] for integers).\n"
          ]
        },
        {
          "output_type": "stream",
          "name": "stdout",
          "text": [
            "Label:  frog (6)\n"
          ]
        },
        {
          "output_type": "display_data",
          "data": {
            "text/plain": [
              "<Figure size 72x72 with 1 Axes>"
            ],
            "image/png": "[encoded data removed]"
          },
          "metadata": {
            "needs_background": "light"
          }
        }
      ],
      "source": [
        "show_image(*dataset[200])"
      ]
    },
    {
      "cell_type": "code",
      "execution_count": 7,
      "metadata": {
        "id": "x3aLCchAO1uQ"
      },
      "outputs": [],
      "source": [
        "# Setting seed so that value won't change everytime. \n",
        "# Splitting the dataset to training, validation, and testing category.\n",
        "torch.manual_seed(10)\n",
        "val_size = len(dataset)//20\n",
        "test_size = len(dataset)//10\n",
        "train_size = len(dataset) - val_size - test_size"
      ]
    },
    {
      "cell_type": "code",
      "execution_count": 8,
      "metadata": {
        "id": "-oeDLvlsO1lx",
        "colab": {
          "base_uri": "https://localhost:8080/"
        },
        "outputId": "b4431465-06e2-432d-ad38-a2102bb9485e"
      },
      "outputs": [
        {
          "output_type": "execute_result",
          "data": {
            "text/plain": [
              "(42500, 2500, 5000)"
            ]
          },
          "metadata": {},
          "execution_count": 8
        }
      ],
      "source": [
        "# Random Splitting. \n",
        "train_ds, val_ds, test_ds = random_split(dataset, [train_size, val_size, test_size])\n",
        "len(train_ds), len(val_ds),len(test_ds)  "
      ]
    },
    {
      "cell_type": "code",
      "execution_count": 9,
      "metadata": {
        "id": "RntURgaIRaTp"
      },
      "outputs": [],
      "source": [
        "batch_size = 32 #change batch_size\n",
        "train_loader = DataLoader(train_ds, batch_size, shuffle=True, num_workers=2, pin_memory=True)\n",
        "val_loader = DataLoader(val_ds, batch_size, num_workers=2, pin_memory=True)\n",
        "test_loader = DataLoader(test_ds, batch_size, num_workers=2, pin_memory=True)"
      ]
    },
    {
      "cell_type": "code",
      "execution_count": 10,
      "metadata": {
        "id": "uZkgiO-XRdxQ",
        "colab": {
          "base_uri": "https://localhost:8080/",
          "height": 0
        },
        "outputId": "b5a83823-c794-4b21-dc67-0ddd07519cec"
      },
      "outputs": [
        {
          "output_type": "stream",
          "name": "stderr",
          "text": [
            "WARNING:matplotlib.image:Clipping input data to the valid range for imshow with RGB data ([0..1] for floats or [0..255] for integers).\n"
          ]
        },
        {
          "output_type": "display_data",
          "data": {
            "text/plain": [
              "<Figure size 288x1440 with 1 Axes>"
            ],
            "image/png": "[encoded data removed]"
          },
          "metadata": {}
        }
      ],
      "source": [
        "# Multiple images preview. \n",
        "for images, labels in train_loader:\n",
        "    fig, ax = plt.subplots(figsize=(4,20))\n",
        "    ax.set_xticks([])\n",
        "    ax.set_yticks([])\n",
        "    ax.imshow(make_grid(images, nrow=16).permute(1, 2, 0))\n",
        "    break"
      ]
    },
    {
      "cell_type": "code",
      "execution_count": 11,
      "metadata": {
        "id": "dpH6HJSuRhAe"
      },
      "outputs": [],
      "source": [
        " # Baseline model class for training and validation purpose. Evaluation metric function - Accuracy.\n",
        "# def accuracy(output, target, topk=(1,)):\n",
        "#     \"\"\"\n",
        "#     Computes the accuracy over the k top predictions for the specified values of k\n",
        "#     In top-3 accuracy you give yourself credit for having the right answer\n",
        "#     if the right answer appears in your top five guesses.\n",
        "#     \"\"\"\n",
        "#     with torch.no_grad():\n",
        "#         batch_size = target.size(0)\n",
        "\n",
        "#         # st()\n",
        "#         _, pred = torch.topk(output,1)\n",
        "#         pred = pred.t()\n",
        "#         # st()\n",
        "#         # correct = pred.eq(target.view(1, -1).expand_as(pred))\n",
        "#         # correct = (pred == target.view(1, -1).expand_as(pred))\n",
        "#         correct = (pred == target.unsqueeze(dim=0)).expand_as(pred)\n",
        "\n",
        "#         return correct.sum()/target.size(0)\n",
        "\n",
        "# def accuracy(outputs, labels):\n",
        "#    _, preds = torch.max(outputs, dim=1)\n",
        "#    return torch.tensor(torch.sum(preds == labels).item() / len(preds))\n",
        "\n",
        "# class ImageClassificationBase(nn.Module):\n",
        "#     def training_step(self, batch):\n",
        "#         images, labels = batch \n",
        "#         out = self(images)                  # Generate predictions\n",
        "#         accuracy(out, labels)           # Calculate accuracy\n",
        "#         loss = F.cross_entropy(out, labels) # Calculate loss, Hints: the loss function can be changed to improve the accuracy #chang\n",
        "#         acc = accuracy(out, labels)           # Calculate accuracy\n",
        "#         return {'train_loss': loss.detach(), 'train_acc': acc}\n",
        "\n",
        "#     def training_epoch_end(self, outputs):\n",
        "#         batch_losses = [x['train_loss'] for x in outputs]\n",
        "#         epoch_loss = torch.stack(batch_losses).mean()   # Combine losses\n",
        "#         batch_accs = [x['train_acc'] for x in outputs]\n",
        "#         epoch_acc = torch.stack(batch_accs).mean()      # Combine accuracies\n",
        "#         return {'train_loss': epoch_loss.item(), 'train_acc': epoch_acc.item()}\n",
        "    \n",
        "#     def validation_step(self, batch):\n",
        "#         images, labels = batch \n",
        "#         out = self(images)                    # Generate predictions\n",
        "#         loss = F.cross_entropy(out, labels)   # Calculate loss\n",
        "#         acc = accuracy(out, labels)           # Calculate accuracy\n",
        "#         return {'val_loss': loss.detach(), 'val_acc': acc}\n",
        "        \n",
        "#     def validation_epoch_end(self, outputs):\n",
        "#         print(outputs)\n",
        "#         batch_losses = [x['val_loss'] for x in outputs]\n",
        "#         print(batch_losses)\n",
        "#         epoch_loss = torch.stack(batch_losses).mean()   # Combine losses\n",
        "#         batch_accs = [x['val_acc'] for x in outputs]\n",
        "#         epoch_acc = torch.stack(batch_accs).mean()      # Combine accuracies\n",
        "#         return {'val_loss': epoch_loss.item(), 'val_acc': epoch_acc.item()}\n",
        "    \n",
        "#     def epoch_end(self, epoch, result):\n",
        "#         print(\"Epoch [{}], train_loss: {:.4f}, val_loss: {:.4f}, train_acc:{:.4f}, val_acc: {:.4f}\".format(\n",
        "#             epoch, result['train_loss'], result['val_loss'], result['train_acc'], result['val_acc']))"
      ]
    },
    {
      "cell_type": "code",
      "execution_count": 12,
      "metadata": {
        "id": "H-2gGT4iRthd"
      },
      "outputs": [],
      "source": [
        " # To check wether Google Colab GPU has been assigned/not. \n",
        "\n",
        "def get_default_device():\n",
        "    \"\"\"Pick GPU if available, else CPU\"\"\"\n",
        "    if torch.cuda.is_available():\n",
        "        return torch.device('cuda')\n",
        "    else:\n",
        "        return None\n",
        "    \n",
        "def to_device(data, device):\n",
        "    \"\"\"Move tensor(s) to chosen device\"\"\"\n",
        "    if isinstance(data, (list,tuple)):\n",
        "        return [to_device(x, device) for x in data]\n",
        "    return data.to(device, non_blocking=True)\n",
        "\n",
        "class DeviceDataLoader():\n",
        "    \"\"\"Wrap a dataloader to move data to a device\"\"\"\n",
        "    def __init__(self, dl, device):\n",
        "        self.dl = dl\n",
        "        self.device = device\n",
        "        \n",
        "    def __iter__(self):\n",
        "        \"\"\"Yield a batch of data after moving it to device\"\"\"\n",
        "        for b in self.dl: \n",
        "            yield to_device(b, self.device)\n",
        "\n",
        "    def __len__(self):\n",
        "        \"\"\"Number of batches\"\"\"\n",
        "        return len(self.dl)"
      ]
    },
    {
      "cell_type": "code",
      "execution_count": 13,
      "metadata": {
        "id": "UnJ0fHw3Ry6D"
      },
      "outputs": [],
      "source": [
        "device = get_default_device()\n",
        "device\n",
        "train_loader = DeviceDataLoader(train_loader, device)\n",
        "val_loader = DeviceDataLoader(val_loader, device)\n",
        "test_loader = DeviceDataLoader(test_loader, device)"
      ]
    },
    {
      "cell_type": "code",
      "execution_count": 14,
      "metadata": {
        "id": "vg1yB_o7R1rz",
        "colab": {
          "base_uri": "https://localhost:8080/"
        },
        "outputId": "601a2e79-c155-4e17-85a2-220362a45d50"
      },
      "outputs": [
        {
          "output_type": "stream",
          "name": "stdout",
          "text": [
            "['airplane', 'automobile', 'bird', 'cat', 'deer', 'dog', 'frog', 'horse', 'ship', 'truck']\n"
          ]
        }
      ],
      "source": [
        "# input_size = 3*112*112\n",
        "# output_size = 151\n",
        "classes = dataset.classes\n",
        "print(classes)"
      ]
    },
    {
      "cell_type": "code",
      "source": [
        "img, label = dataset[100]\n",
        "print(img.shape)"
      ],
      "metadata": {
        "colab": {
          "base_uri": "https://localhost:8080/"
        },
        "id": "SZ-ir44-r5pE",
        "outputId": "a09944a8-55ac-4377-9c1c-41cafaba2d7d"
      },
      "execution_count": 15,
      "outputs": [
        {
          "output_type": "stream",
          "name": "stdout",
          "text": [
            "torch.Size([3, 32, 32])\n"
          ]
        }
      ]
    },
    {
      "cell_type": "code",
      "source": [
        "input_size = 3*32*32\n",
        "output_size = 10"
      ],
      "metadata": {
        "id": "19jB-yglr9uJ"
      },
      "execution_count": 16,
      "outputs": []
    },
    {
      "cell_type": "code",
      "execution_count": 17,
      "metadata": {
        "id": "o8hKhWrZSiER"
      },
      "outputs": [],
      "source": [
        "# Convolutional Network - mobilenet_v3\n",
        "class ConvolutionalNetwork(nn.Module):\n",
        "    def __init__(self, classes):\n",
        "        super().__init__()\n",
        "        self.num_classes=classes\n",
        "  \n",
        "        self.train_stats=[]\n",
        "        self.conv1 = nn.Conv2d(3, 6, 5)\n",
        "        self.pool = nn.MaxPool2d(2, 2)\n",
        "        self.conv2 = nn.Conv2d(6, 16, 5)\n",
        "        self.fc1 = nn.Linear(16 * 5 * 5, 120)\n",
        "        self.fc2 = nn.Linear(120, 84)\n",
        "        self.fc3 = nn.Linear(84, self.num_classes)\n",
        "        \n",
        "    def forward(self, X):\n",
        "          # -> n, 3, 32, 32\n",
        "        X = self.pool(F.relu(self.conv1(X)))  # -> n, 6, 14, 14\n",
        "        X = self.pool(F.relu(self.conv2(X)))  # -> n, 16, 5, 5\n",
        "        X = X.view(-1, 16 * 5 * 5)            # -> n, 400\n",
        "        X = F.relu(self.fc1(X))               # -> n, 120\n",
        "        X = F.relu(self.fc2(X))               # -> n, 84\n",
        "        X = self.fc3(X)                       # -> n, 10\n",
        "        \n",
        "        return X"
      ]
    },
    {
      "cell_type": "code",
      "execution_count": 18,
      "metadata": {
        "id": "Yp66PsS8T_tk"
      },
      "outputs": [],
      "source": [
        "# Functions for evaluation and training.\n",
        "\n",
        "# @torch.no_grad()\n",
        "# def evaluate(model, loader, eval_type=1):\n",
        "#     model.eval()\n",
        "#     outputs_t = list()\n",
        "#     outputs_v = list()\n",
        "#     if eval_type==1:\n",
        "#       outputs_t = torch.Tensor([model.training_step(batch) for batch in loader])\n",
        "#     elif eval_type==0:\n",
        "#       outputs_v = torch.Tensor([model.validation_step(batch) for batch in loader])\n",
        "    \n",
        "#     print(outputs_t,outputs_v )\n",
        "#     return model.validation_epoch_end(outputs_v),model.training_epoch_end_epoch_end(outputs_t)\n",
        "  \n",
        "# def acc_and_loss(model,loader,opt):\n",
        "#         model.eval()\n",
        "#         losses = []\n",
        "#         acc_lst = []\n",
        "#         mean_loss,acc = 0,0\n",
        "#         lbl_sz =0\n",
        "#         optimizer = opt\n",
        "#         #NO gradient required as not training\n",
        "#         with torch.no_grad():\n",
        "#             for i, data in enumerate(loader, 0):\n",
        "#                 # get the inputs\n",
        "#                 inputs, labels = data[0].to(get_default_device()), data[1].to(get_default_device())\n",
        "#                 outputs = model(inputs)\n",
        "#                 criterion = F.cross_entropy(outputs, labels) \n",
        "#                 #Accuracy\n",
        "#                 lbl_sz+=labels.size(0)\n",
        "#                 _, predicted = torch.max(outputs.data, 1)\n",
        "#                 itm = (predicted == labels).sum().item()\n",
        "#                 acc_lst.append(itm)\n",
        "#                 #losses\n",
        "#                 loss = criterion\n",
        "#                 losses.append(loss.item())\n",
        "#         mean_loss = np.mean(losses)\n",
        "#         acc=(100 * np.sum(acc_lst) / lbl_sz)\n",
        "#         return  acc,mean_loss\n",
        "\n",
        "def acc_and_loss(model,loader,opt):\n",
        "\n",
        "        model.eval()\n",
        "        losses = []\n",
        "        acc_lst = []\n",
        "        mean_loss,acc = 0,0\n",
        "        lbl_sz =0\n",
        "        # criterion = cpt\n",
        "        optimizer = opt\n",
        "        #NO gradient required as not training\n",
        "        with torch.no_grad():\n",
        "            for i, data in enumerate(loader, 0):\n",
        "                # get the inputs\n",
        "                inputs, labels = data[0].to(get_default_device()), data[1].to(get_default_device())\n",
        "                outputs = model(inputs)\n",
        "                #Accuracy\n",
        "                lbl_sz+=labels.size(0)\n",
        "                _, predicted = torch.max(outputs.data, 1)\n",
        "                itm = (predicted == labels).sum().item()\n",
        "                acc_lst.append(itm)\n",
        "                #losses\n",
        "                loss = F.cross_entropy(outputs, labels)\n",
        "                losses.append(loss.item())\n",
        "        mean_loss = np.mean(losses)\n",
        "        acc=(100 * np.sum(acc_lst) / lbl_sz)\n",
        "        return  acc,mean_loss\n",
        "\n",
        "# def fit(epochs, lr, model, train_loader, val_loader, opt_func=torch.optim.SGD): \n",
        "#   train_stats = []\n",
        "\n",
        "#   n_total_steps = len(train_loader)\n",
        "#   for epoch in range(epochs):\n",
        "#       for i, (images, labels) in enumerate(train_loader):\n",
        "#           # origin shape: [4, 3, 32, 32] = 4, 3, 1024\n",
        "#           # input_layer: 3 input channels, 6 output channels, 5 kernel size\n",
        "#           images = images.to(device)\n",
        "#           labels = labels.to(device)\n",
        "\n",
        "#           # Flossorward pass\n",
        "#           outputs = model(images)\n",
        "#           loss = F.cross_entropy(outputs, labels)\n",
        "\n",
        "#           # Backward and optimize\n",
        "#           opt_func.zero_grad()\n",
        "#           loss.backward()\n",
        "#           opt_func.step()\n",
        "\n",
        "#           if (i+1) % 2000 == 0:\n",
        "#               print (f'Epoch [{epoch+1}/{num_epochs}], Step [{i+1}/{n_total_steps}], Loss: {loss.item():.4f}')\n",
        "#       train_acc,train_loss = acc_and_loss(model,train_loader,opt_func,loss)\n",
        "#       val_acc,val_loss = acc_and_loss(model,val_loader,opt_func,loss)\n",
        "\n",
        "#       train_stat = {\"epoch\" : epoch+1,\"train_loss\" :train_loss,\"train_acc\" :train_acc,\"val_acc\": val_acc,\"val_loss\":val_loss}\n",
        "#       print(train_stat)\n",
        "#       train_stats.append(train_stat)\n",
        "#       model.train_stats = train_stats\n",
        "#   print('Finished Training')\n",
        "\n",
        "def show_graph(epochs,model):\n",
        "   train_accuracies = [x['train_acc'] for x in model.train_stats]\n",
        "   val_accuracies = [x['val_acc'] for x in model.train_stats]  \n",
        "   train_losses = [x['train_loss'] for x in model.train_stats]\n",
        "   val_losses = [x['val_loss'] for x in model.train_stats] \n",
        "   print(train_accuracies)\n",
        "   \n",
        "   plt.figure(figsize=(5, 4))\n",
        "   plt.title(\"Plotting Training/Validation Loss vs Epochs\")\n",
        "   plt.plot(np.arange(epochs), val_losses, label = \"Validation Loss\")\n",
        "   plt.plot(np.arange(epochs), train_losses, label = \"Training Loss\")\n",
        "   plt.legend()\n",
        "   plt.show()\n",
        "   \n",
        "   plt.figure(figsize=(5, 4))\n",
        "   plt.title(\"Plotting Training/Validation Accuracy  vs Epochs\")\n",
        "   plt.plot(np.arange(epochs), val_accuracies, label = \"Validation Accuracy\")\n",
        "   plt.plot(np.arange(epochs), train_accuracies, label = \"Training Accuracy\")\n",
        "   plt.legend()\n",
        "   plt.show()\n",
        "\n",
        "# def fit_A(epochs, lr, model, train_loader, val_loader, opt_func=torch.optim.SGD): #this works\n",
        "#   n_total_steps = len(train_loader)\n",
        "#   for epoch in range(num_epochs):\n",
        "#       for i, (images, labels) in enumerate(train_loader):\n",
        "#           # origin shape: [4, 3, 32, 32] = 4, 3, 1024\n",
        "#           # input_layer: 3 input channels, 6 output channels, 5 kernel size\n",
        "#           images = images.to(device)\n",
        "#           labels = labels.to(device)\n",
        "\n",
        "#           # Forward pass\n",
        "#           outputs = model(images)\n",
        "#           loss = F.cross_entropy(outputs, labels)\n",
        "\n",
        "#           # Backward and optimize\n",
        "#           opt_func.zero_grad()\n",
        "#           loss.backward()\n",
        "#           opt_func.step()\n",
        "\n",
        "#           if (i+1) % 2000 == 0:\n",
        "#               print (f'Epoch [{epoch+1}/{num_epochs}], Step [{i+1}/{n_total_steps}], Loss: {loss.item():.4f}')\n",
        "#       result_t = acc_and_loss(model,train_loader,opt_func)\n",
        "#       result_v = acc_and_loss(model,val_loader,opt_func)\n",
        "#       print(f\"Validation : {result_v}\")\n",
        "#       print(f\"training : {result_t}\")\n",
        "#   print('Finished Training')\n",
        "\n",
        "\n",
        "\n",
        "def fit_A(epochs, lr, model, train_loader, val_loader, opt_func=torch.optim.Adam): #this works\n",
        "  n_total_steps = len(train_loader)\n",
        "  train_stats = []\n",
        "  for epoch in range(num_epochs):\n",
        "      for i, (images, labels) in enumerate(train_loader):\n",
        "          # origin shape: [4, 3, 32, 32] = 4, 3, 1024\n",
        "          # input_layer: 3 input channels, 6 output channels, 5 kernel size\n",
        "          images = images.to(device)\n",
        "          labels = labels.to(device)\n",
        "\n",
        "          # Forward pass\n",
        "          outputs = model(images)\n",
        "          loss = F.cross_entropy(outputs, labels)\n",
        "\n",
        "          # Backward and optimize\n",
        "          opt_func.zero_grad()\n",
        "          loss.backward()\n",
        "          opt_func.step()\n",
        "\n",
        "          if (i+1) % 2000 == 0:\n",
        "              print (f'Epoch [{epoch+1}/{num_epochs}], Step [{i+1}/{n_total_steps}], Loss: {loss.item():.4f}')\n",
        "      train_acc,train_loss = acc_and_loss(model,train_loader,opt_func)\n",
        "      val_acc,val_loss = acc_and_loss(model,val_loader,opt_func)\n",
        "\n",
        "      train_stat = {\"epoch\" : epoch+1,\"train_loss\" :train_loss,\"train_acc\" :train_acc,\"val_acc\": val_acc,\"val_loss\":val_loss}\n",
        "      print(train_stat)\n",
        "      train_stats.append(train_stat)\n",
        "      model.train_stats = train_stats\n",
        "  print('Finished Training')\n",
        "\n",
        "# def acc_by_class(batch_size,model, val_loader):\n",
        "#   with torch.no_grad():\n",
        "#       n_correct = 0\n",
        "#       n_samples = 0\n",
        "#       n_class_correct = [0 for i in range(10)]\n",
        "#       n_class_samples = [0 for i in range(10)]\n",
        "#       for images, labels in val_loader:\n",
        "#           images = images.to(device)\n",
        "#           labels = labels.to(device)\n",
        "#           outputs = model(images)\n",
        "#           # max returns (value ,index)\n",
        "#           _, predicted = torch.max(outputs, 1)\n",
        "#           n_samples += labels.size(0)\n",
        "#           n_correct += (predicted == labels).sum().item()\n",
        "          \n",
        "#           for i in range(batch_size):\n",
        "#               label = labels[i]\n",
        "#               pred = predicted[i]\n",
        "#               if (label == pred):\n",
        "#                   n_class_correct[label] += 1\n",
        "#               n_class_samples[label] += 1\n",
        "\n",
        "#       acc = 100.0 * n_correct / n_samples\n",
        "#       print(f'Accuracy of the network: {acc} %')\n",
        "\n",
        "#       for i in range(10):\n",
        "#           acc = 100.0 * n_class_correct[i] / n_class_samples[i]\n",
        "#           print(f'Accuracy of {classes[i]}: {acc} %')"
      ]
    },
    {
      "cell_type": "markdown",
      "source": [
        "# Experiment 0"
      ],
      "metadata": {
        "id": "NRS6O1wPtR4k"
      }
    },
    {
      "cell_type": "code",
      "execution_count": 19,
      "metadata": {
        "id": "ds1_BIy6Sse5",
        "colab": {
          "base_uri": "https://localhost:8080/"
        },
        "outputId": "408f9931-3b3a-41bf-c057-6df72c524f42"
      },
      "outputs": [
        {
          "output_type": "stream",
          "name": "stdout",
          "text": [
            "ConvolutionalNetwork(\n",
            "  (conv1): Conv2d(3, 6, kernel_size=(5, 5), stride=(1, 1))\n",
            "  (pool): MaxPool2d(kernel_size=2, stride=2, padding=0, dilation=1, ceil_mode=False)\n",
            "  (conv2): Conv2d(6, 16, kernel_size=(5, 5), stride=(1, 1))\n",
            "  (fc1): Linear(in_features=400, out_features=120, bias=True)\n",
            "  (fc2): Linear(in_features=120, out_features=84, bias=True)\n",
            "  (fc3): Linear(in_features=84, out_features=10, bias=True)\n",
            ")\n"
          ]
        }
      ],
      "source": [
        "# Model print\n",
        "num_classes = len(classes)\n",
        "model = ConvolutionalNetwork(num_classes)\n",
        "model.to(device)\n",
        "print(model)"
      ]
    },
    {
      "cell_type": "code",
      "execution_count": 20,
      "metadata": {
        "id": "dwePT8W8Sxob",
        "colab": {
          "base_uri": "https://localhost:8080/"
        },
        "outputId": "97c18850-4d63-4f46-fbd7-d04755af639a"
      },
      "outputs": [
        {
          "output_type": "stream",
          "name": "stdout",
          "text": [
            "images.shape: torch.Size([32, 3, 32, 32])\n",
            "out.shape: torch.Size([32, 10])\n",
            "out[0]: tensor([ 0.0217, -0.1061,  0.0756,  0.0385, -0.0082, -0.1088, -0.0248,  0.0472,\n",
            "         0.1112, -0.0461], device='cuda:0', grad_fn=<SelectBackward0>)\n"
          ]
        }
      ],
      "source": [
        "# We can check the input and the output shape\n",
        "for images, labels in train_loader:\n",
        "    out = model(images)\n",
        "    print('images.shape:', images.shape)    \n",
        "    print('out.shape:', out.shape)\n",
        "    print('out[0]:', out[0])\n",
        "    break"
      ]
    },
    {
      "cell_type": "code",
      "execution_count": 21,
      "metadata": {
        "id": "Slbs7i2bTNYX"
      },
      "outputs": [],
      "source": [
        "# train_dl = DeviceDataLoader(train_loader, device)\n",
        "# val_dl = DeviceDataLoader(val_loader, device)\n",
        "# to_device(model, device)"
      ]
    },
    {
      "cell_type": "code",
      "execution_count": 22,
      "metadata": {
        "id": "wS27vmjWUk0M",
        "colab": {
          "base_uri": "https://localhost:8080/"
        },
        "outputId": "d97eb01c-c442-41ae-c89f-1df579552036"
      },
      "outputs": [
        {
          "output_type": "stream",
          "name": "stdout",
          "text": [
            "5000\n"
          ]
        }
      ],
      "source": [
        "# Hints: The following parameters can be changed to improve the accuracy\n",
        "print(test_size)\n",
        "num_epochs = 3 #5\n",
        "lr = 0.0001 \n",
        "optimizer = torch.optim.Adam(model.parameters(), lr=lr)\n"
      ]
    },
    {
      "cell_type": "code",
      "execution_count": 23,
      "metadata": {
        "id": "tYoHc3F6U2aQ"
      },
      "outputs": [],
      "source": [
        "# fit(num_epochs, lr, model, train_loader, val_loader, optimizer)"
      ]
    },
    {
      "cell_type": "code",
      "source": [
        "start = time.time()\n",
        "fit_A(num_epochs, lr, model, train_loader, val_loader, optimizer)\n",
        "print(time.time()-start)"
      ],
      "metadata": {
        "colab": {
          "base_uri": "https://localhost:8080/"
        },
        "id": "8fUKAgtc4WJg",
        "outputId": "7d8bee54-9ec7-4bb1-db9b-9bcd208a7076"
      },
      "execution_count": 24,
      "outputs": [
        {
          "output_type": "stream",
          "name": "stdout",
          "text": [
            "{'epoch': 1, 'train_loss': 1.6919736326682648, 'train_acc': 38.66823529411765, 'val_acc': 37.64, 'val_loss': 1.7284133917168727}\n",
            "{'epoch': 2, 'train_loss': 1.5838969323400092, 'train_acc': 42.72470588235294, 'val_acc': 40.92, 'val_loss': 1.6256555967693087}\n",
            "{'epoch': 3, 'train_loss': 1.52363821247451, 'train_acc': 45.15764705882353, 'val_acc': 42.88, 'val_loss': 1.5711501791507383}\n",
            "Finished Training\n",
            "39.533230781555176\n"
          ]
        }
      ]
    },
    {
      "cell_type": "code",
      "source": [
        "show_graph(num_epochs,model)"
      ],
      "metadata": {
        "colab": {
          "base_uri": "https://localhost:8080/",
          "height": 562
        },
        "id": "c4AOjChJENLo",
        "outputId": "73865acc-313e-41c9-b368-d323de8e4b81"
      },
      "execution_count": 25,
      "outputs": [
        {
          "output_type": "stream",
          "name": "stdout",
          "text": [
            "[38.66823529411765, 42.72470588235294, 45.15764705882353]\n"
          ]
        },
        {
          "output_type": "display_data",
          "data": {
            "text/plain": [
              "<Figure size 360x288 with 1 Axes>"
            ],
            "image/png": "[encoded data removed]"
          },
          "metadata": {
            "needs_background": "light"
          }
        },
        {
          "output_type": "display_data",
          "data": {
            "text/plain": [
              "<Figure size 360x288 with 1 Axes>"
            ],
            "image/png": "[encoded data removed]"
          },
          "metadata": {
            "needs_background": "light"
          }
        }
      ]
    },
    {
      "cell_type": "code",
      "execution_count": 26,
      "metadata": {
        "id": "G1A9PYs1Ugt_"
      },
      "outputs": [],
      "source": [
        "# acc_by_class(batch_size,model, val_loader)"
      ]
    },
    {
      "cell_type": "code",
      "source": [
        "# #incorrectly classifed\n",
        "\n",
        "# incorrect_examples = []\n",
        "# incorrect_labels = []\n",
        "# incorrect_pred = []\n",
        "# model.eval()\n",
        "# for data,target in test_loader:\n",
        "#   data , target = data.to(device), target.to(device)\n",
        "#   output = model(data) # shape = torch.Size([batch_size, 10])\n",
        "#   pred = output.argmax(dim=1, keepdim=True) #pred will be a 2d tensor of shape [batch_size,1]\n",
        "#   idxs_mask = ((pred == target.view_as(pred))==False).view(-1)\n",
        "  \n",
        "#   if idxs_mask.numel(): #if index masks is non-empty append the correspoding data value in incorrect examples\n",
        "#     incorrect_examples.append(data[idxs_mask].squeeze().cpu().numpy())\n",
        "#     incorrect_labels.append(target[idxs_mask].cpu().numpy()) #the corresponding target to the misclassified image\n",
        "#     incorrect_pred.append(pred[idxs_mask].squeeze().cpu().numpy()) #the corresponiding predicted class of the misclassified image\n"
      ],
      "metadata": {
        "id": "m6QvSj1PBlqU"
      },
      "execution_count": 27,
      "outputs": []
    },
    {
      "cell_type": "code",
      "source": [
        "\n",
        "# first_index = 1\n",
        "# second_index = 1\n",
        "\n",
        "# img = incorrect_examples[first_index][second_index]\n",
        "# print('label:', incorrect_labels[first_index][second_index], dataset.classes[incorrect_labels[first_index][second_index]])\n",
        "# print('predicted:', incorrect_pred[first_index][second_index], dataset.classes[incorrect_pred[first_index][second_index]])\n",
        "# img = img.swapaxes(0, 1)\n",
        "# img = img.swapaxes(1, 2)\n",
        "# plt.figure(figsize=(1,1))\n",
        "# plt.imshow(img)\n"
      ],
      "metadata": {
        "id": "y_x1PVP9B2lG"
      },
      "execution_count": 28,
      "outputs": []
    },
    {
      "cell_type": "markdown",
      "metadata": {
        "id": "30W_gAqhVI09"
      },
      "source": [
        "##FLOPs"
      ]
    },
    {
      "cell_type": "code",
      "execution_count": 29,
      "metadata": {
        "id": "bIx3zX87VNBw",
        "outputId": "b7bb715a-ce4f-4c6f-f088-27c7e01c11e6",
        "colab": {
          "base_uri": "https://localhost:8080/"
        }
      },
      "outputs": [
        {
          "output_type": "stream",
          "name": "stdout",
          "text": [
            "--2022-10-26 09:44:16--  https://cloudstor.aarnet.edu.au/plus/s/hXo1dK9SZqiEVn9/download\n",
            "Resolving cloudstor.aarnet.edu.au (cloudstor.aarnet.edu.au)... 202.158.207.20\n",
            "Connecting to cloudstor.aarnet.edu.au (cloudstor.aarnet.edu.au)|202.158.207.20|:443... connected.\n",
            "HTTP request sent, awaiting response... 200 OK\n",
            "Syntax error in Set-Cookie: 5230042dc1897=vokgole28k9dhnhspk4cmvdbn1; path=/plus;; Secure at position 53.\n",
            "Syntax error in Set-Cookie: oc_sessionPassphrase=sORxMP9%2FwJ5jR9vdnN8DrybylmZLUx6Ebkeqk%2BCgxpaUudfrnrIlDreULpnxpf1EEKAjBfYi8fq5JHd5zxRWJMsOFV37uF5mRyOrqkzcWXN55ZP%2BYlVALsOBZ5G959w4; expires=Thu, 27-Oct-2022 09:44:17 GMT; Max-Age=86400; path=/plus;; Secure at position 222.\n",
            "Length: 5201 (5.1K) [text/x-python]\n",
            "Saving to: ‘download’\n",
            "\n",
            "download            100%[===================>]   5.08K  --.-KB/s    in 0s      \n",
            "\n",
            "2022-10-26 09:44:17 (329 MB/s) - ‘download’ saved [5201/5201]\n",
            "\n"
          ]
        }
      ],
      "source": [
        "  #The code from https://cloudstor.aarnet.edu.au/plus/s/PcSc67ZncTSQP0E can be used to count flops\n",
        "  #Download the code.\n",
        "  !wget -c https://cloudstor.aarnet.edu.au/plus/s/hXo1dK9SZqiEVn9/download\n",
        "  !mv download FLOPs_counter.py\n",
        "  #!rm -rf download"
      ]
    },
    {
      "cell_type": "code",
      "execution_count": 30,
      "metadata": {
        "id": "jhLcWbq2VRYa",
        "outputId": "2832deba-fa7a-4b7e-cc7a-b369ccc60a66",
        "colab": {
          "base_uri": "https://localhost:8080/"
        }
      },
      "outputs": [
        {
          "output_type": "stream",
          "name": "stdout",
          "text": [
            " + Number of FLOPs: 0.00G\n"
          ]
        }
      ],
      "source": [
        "from FLOPs_counter import print_model_parm_flops\n",
        "input = torch.randn(1, 3, 32, 32) # The input size should be the same as the size that you put into your model \n",
        "#Get the network and its FLOPs\n",
        "num_classes = len(classes)\n",
        "model = ConvolutionalNetwork(num_classes)\n",
        "print_model_parm_flops(model, input, detail=False)"
      ]
    },
    {
      "cell_type": "code",
      "source": [],
      "metadata": {
        "id": "R7nHh69qWcgE"
      },
      "execution_count": 30,
      "outputs": []
    }
  ],
  "metadata": {
    "accelerator": "GPU",
    "colab": {
      "provenance": [],
      "collapsed_sections": [],
      "machine_shape": "hm",
      "include_colab_link": true
    },
    "kernelspec": {
      "display_name": "Python 3",
      "name": "python3"
    },
    "language_info": {
      "name": "python"
    },
    "gpuClass": "premium",
    "widgets": {
      "application/vnd.jupyter.widget-state+json": {
        "7cc2d880ca7344f4bddf390ddab1b745": {
          "model_module": "@jupyter-widgets/controls",
          "model_name": "HBoxModel",
          "model_module_version": "1.5.0",
          "state": {
            "_dom_classes": [],
            "_model_module": "@jupyter-widgets/controls",
            "_model_module_version": "1.5.0",
            "_model_name": "HBoxModel",
            "_view_count": null,
            "_view_module": "@jupyter-widgets/controls",
            "_view_module_version": "1.5.0",
            "_view_name": "HBoxView",
            "box_style": "",
            "children": [
              "IPY_MODEL_a0c05187109f4274a303afa0e9deefba",
              "IPY_MODEL_e9c660ee67c340e498eb8f85bc2327a8",
              "IPY_MODEL_0894187fe65c4b748eeb296ff6c1c867"
            ],
            "layout": "IPY_MODEL_ef2ede3ae97b44cbb70ad52bbd403494"
          }
        },
        "a0c05187109f4274a303afa0e9deefba": {
          "model_module": "@jupyter-widgets/controls",
          "model_name": "HTMLModel",
          "model_module_version": "1.5.0",
          "state": {
            "_dom_classes": [],
            "_model_module": "@jupyter-widgets/controls",
            "_model_module_version": "1.5.0",
            "_model_name": "HTMLModel",
            "_view_count": null,
            "_view_module": "@jupyter-widgets/controls",
            "_view_module_version": "1.5.0",
            "_view_name": "HTMLView",
            "description": "",
            "description_tooltip": null,
            "layout": "IPY_MODEL_b3fe2b89594b4f90a594bb2b920b2173",
            "placeholder": "​",
            "style": "IPY_MODEL_2c84607a5fe74773a1f91762b6b40afa",
            "value": "100%"
          }
        },
        "e9c660ee67c340e498eb8f85bc2327a8": {
          "model_module": "@jupyter-widgets/controls",
          "model_name": "FloatProgressModel",
          "model_module_version": "1.5.0",
          "state": {
            "_dom_classes": [],
            "_model_module": "@jupyter-widgets/controls",
            "_model_module_version": "1.5.0",
            "_model_name": "FloatProgressModel",
            "_view_count": null,
            "_view_module": "@jupyter-widgets/controls",
            "_view_module_version": "1.5.0",
            "_view_name": "ProgressView",
            "bar_style": "success",
            "description": "",
            "description_tooltip": null,
            "layout": "IPY_MODEL_6d19915fe6f84fa1895475f5ec6e5728",
            "max": 170498071,
            "min": 0,
            "orientation": "horizontal",
            "style": "IPY_MODEL_9d98b3df4f9c4ddea0daddca12e21b3a",
            "value": 170498071
          }
        },
        "0894187fe65c4b748eeb296ff6c1c867": {
          "model_module": "@jupyter-widgets/controls",
          "model_name": "HTMLModel",
          "model_module_version": "1.5.0",
          "state": {
            "_dom_classes": [],
            "_model_module": "@jupyter-widgets/controls",
            "_model_module_version": "1.5.0",
            "_model_name": "HTMLModel",
            "_view_count": null,
            "_view_module": "@jupyter-widgets/controls",
            "_view_module_version": "1.5.0",
            "_view_name": "HTMLView",
            "description": "",
            "description_tooltip": null,
            "layout": "IPY_MODEL_1731c57e129b4e38b663dfb27eded6bf",
            "placeholder": "​",
            "style": "IPY_MODEL_f807841167384752ac1da9347f1dbaaf",
            "value": " 170498071/170498071 [00:01&lt;00:00, 103709856.53it/s]"
          }
        },
        "ef2ede3ae97b44cbb70ad52bbd403494": {
          "model_module": "@jupyter-widgets/base",
          "model_name": "LayoutModel",
          "model_module_version": "1.2.0",
          "state": {
            "_model_module": "@jupyter-widgets/base",
            "_model_module_version": "1.2.0",
            "_model_name": "LayoutModel",
            "_view_count": null,
            "_view_module": "@jupyter-widgets/base",
            "_view_module_version": "1.2.0",
            "_view_name": "LayoutView",
            "align_content": null,
            "align_items": null,
            "align_self": null,
            "border": null,
            "bottom": null,
            "display": null,
            "flex": null,
            "flex_flow": null,
            "grid_area": null,
            "grid_auto_columns": null,
            "grid_auto_flow": null,
            "grid_auto_rows": null,
            "grid_column": null,
            "grid_gap": null,
            "grid_row": null,
            "grid_template_areas": null,
            "grid_template_columns": null,
            "grid_template_rows": null,
            "height": null,
            "justify_content": null,
            "justify_items": null,
            "left": null,
            "margin": null,
            "max_height": null,
            "max_width": null,
            "min_height": null,
            "min_width": null,
            "object_fit": null,
            "object_position": null,
            "order": null,
            "overflow": null,
            "overflow_x": null,
            "overflow_y": null,
            "padding": null,
            "right": null,
            "top": null,
            "visibility": null,
            "width": null
          }
        },
        "b3fe2b89594b4f90a594bb2b920b2173": {
          "model_module": "@jupyter-widgets/base",
          "model_name": "LayoutModel",
          "model_module_version": "1.2.0",
          "state": {
            "_model_module": "@jupyter-widgets/base",
            "_model_module_version": "1.2.0",
            "_model_name": "LayoutModel",
            "_view_count": null,
            "_view_module": "@jupyter-widgets/base",
            "_view_module_version": "1.2.0",
            "_view_name": "LayoutView",
            "align_content": null,
            "align_items": null,
            "align_self": null,
            "border": null,
            "bottom": null,
            "display": null,
            "flex": null,
            "flex_flow": null,
            "grid_area": null,
            "grid_auto_columns": null,
            "grid_auto_flow": null,
            "grid_auto_rows": null,
            "grid_column": null,
            "grid_gap": null,
            "grid_row": null,
            "grid_template_areas": null,
            "grid_template_columns": null,
            "grid_template_rows": null,
            "height": null,
            "justify_content": null,
            "justify_items": null,
            "left": null,
            "margin": null,
            "max_height": null,
            "max_width": null,
            "min_height": null,
            "min_width": null,
            "object_fit": null,
            "object_position": null,
            "order": null,
            "overflow": null,
            "overflow_x": null,
            "overflow_y": null,
            "padding": null,
            "right": null,
            "top": null,
            "visibility": null,
            "width": null
          }
        },
        "2c84607a5fe74773a1f91762b6b40afa": {
          "model_module": "@jupyter-widgets/controls",
          "model_name": "DescriptionStyleModel",
          "model_module_version": "1.5.0",
          "state": {
            "_model_module": "@jupyter-widgets/controls",
            "_model_module_version": "1.5.0",
            "_model_name": "DescriptionStyleModel",
            "_view_count": null,
            "_view_module": "@jupyter-widgets/base",
            "_view_module_version": "1.2.0",
            "_view_name": "StyleView",
            "description_width": ""
          }
        },
        "6d19915fe6f84fa1895475f5ec6e5728": {
          "model_module": "@jupyter-widgets/base",
          "model_name": "LayoutModel",
          "model_module_version": "1.2.0",
          "state": {
            "_model_module": "@jupyter-widgets/base",
            "_model_module_version": "1.2.0",
            "_model_name": "LayoutModel",
            "_view_count": null,
            "_view_module": "@jupyter-widgets/base",
            "_view_module_version": "1.2.0",
            "_view_name": "LayoutView",
            "align_content": null,
            "align_items": null,
            "align_self": null,
            "border": null,
            "bottom": null,
            "display": null,
            "flex": null,
            "flex_flow": null,
            "grid_area": null,
            "grid_auto_columns": null,
            "grid_auto_flow": null,
            "grid_auto_rows": null,
            "grid_column": null,
            "grid_gap": null,
            "grid_row": null,
            "grid_template_areas": null,
            "grid_template_columns": null,
            "grid_template_rows": null,
            "height": null,
            "justify_content": null,
            "justify_items": null,
            "left": null,
            "margin": null,
            "max_height": null,
            "max_width": null,
            "min_height": null,
            "min_width": null,
            "object_fit": null,
            "object_position": null,
            "order": null,
            "overflow": null,
            "overflow_x": null,
            "overflow_y": null,
            "padding": null,
            "right": null,
            "top": null,
            "visibility": null,
            "width": null
          }
        },
        "9d98b3df4f9c4ddea0daddca12e21b3a": {
          "model_module": "@jupyter-widgets/controls",
          "model_name": "ProgressStyleModel",
          "model_module_version": "1.5.0",
          "state": {
            "_model_module": "@jupyter-widgets/controls",
            "_model_module_version": "1.5.0",
            "_model_name": "ProgressStyleModel",
            "_view_count": null,
            "_view_module": "@jupyter-widgets/base",
            "_view_module_version": "1.2.0",
            "_view_name": "StyleView",
            "bar_color": null,
            "description_width": ""
          }
        },
        "1731c57e129b4e38b663dfb27eded6bf": {
          "model_module": "@jupyter-widgets/base",
          "model_name": "LayoutModel",
          "model_module_version": "1.2.0",
          "state": {
            "_model_module": "@jupyter-widgets/base",
            "_model_module_version": "1.2.0",
            "_model_name": "LayoutModel",
            "_view_count": null,
            "_view_module": "@jupyter-widgets/base",
            "_view_module_version": "1.2.0",
            "_view_name": "LayoutView",
            "align_content": null,
            "align_items": null,
            "align_self": null,
            "border": null,
            "bottom": null,
            "display": null,
            "flex": null,
            "flex_flow": null,
            "grid_area": null,
            "grid_auto_columns": null,
            "grid_auto_flow": null,
            "grid_auto_rows": null,
            "grid_column": null,
            "grid_gap": null,
            "grid_row": null,
            "grid_template_areas": null,
            "grid_template_columns": null,
            "grid_template_rows": null,
            "height": null,
            "justify_content": null,
            "justify_items": null,
            "left": null,
            "margin": null,
            "max_height": null,
            "max_width": null,
            "min_height": null,
            "min_width": null,
            "object_fit": null,
            "object_position": null,
            "order": null,
            "overflow": null,
            "overflow_x": null,
            "overflow_y": null,
            "padding": null,
            "right": null,
            "top": null,
            "visibility": null,
            "width": null
          }
        },
        "f807841167384752ac1da9347f1dbaaf": {
          "model_module": "@jupyter-widgets/controls",
          "model_name": "DescriptionStyleModel",
          "model_module_version": "1.5.0",
          "state": {
            "_model_module": "@jupyter-widgets/controls",
            "_model_module_version": "1.5.0",
            "_model_name": "DescriptionStyleModel",
            "_view_count": null,
            "_view_module": "@jupyter-widgets/base",
            "_view_module_version": "1.2.0",
            "_view_name": "StyleView",
            "description_width": ""
          }
        }
      }
    }
  },
  "nbformat": 4,
  "nbformat_minor": 0
}